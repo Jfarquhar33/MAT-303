{
 "cells": [
  {
   "cell_type": "markdown",
   "metadata": {
    "deletable": false,
    "editable": false
   },
   "source": [
    "# Module One Problem Set: Multiple Regression\n",
    "\n",
    "In this notebook, you have been given a set of steps that will show you how to create a multiple regression model in R. It is very important to run the steps in order. Some steps depend on the outputs of earlier steps. Once you have run all the steps, you will be asked to create your own multiple regression model to help you answer the questions in the Module One Problem Set. You are expected to write the R script yourself to answer these questions.\n",
    "\n",
    "Reminder: If you have not already reviewed the Problem Set Report template for your Module One Problem Set, be sure to do so now. That will give you an idea of the questions you will need to answer with the outputs of this script. You should use the code you are given as reference when writing your own scripts."
   ]
  },
  {
   "cell_type": "markdown",
   "metadata": {
    "deletable": false,
    "editable": false
   },
   "source": [
    "### Step 1: Loading the Data Set\n",
    "You are an analyst working for a car maker. You have access to a set of data that can be used to study the fuel economy of a car. Car makers are interested in studying factors that are associated with better fuel economy. This data set includes several important variables that are associated with fuel economy. You will use this data set to create models to predict fuel economy.\n",
    "\n",
    "This block of R code will load the data set from **mtcars.csv** file. Here are the variables contained in the dataset. \n",
    "\n",
    "| <div style=\"text-align: left\"> Variable </div>  |   <div style=\"text-align: left\"> What does it represent? </div> |\n",
    "| -- | --  |\n",
    "| <div style=\"text-align: left\"> mpg </div> | <div style=\"text-align: left\"> Fuel economy in miles/(US) gallon </div> |\n",
    "| <div style=\"text-align: left\"> cyl </div> | <div style=\"text-align: left\"> Number of cylinders in car's engine. Values are (4, 6, 8) </div> |\n",
    "| <div style=\"text-align: left\"> disp </div> | <div style=\"text-align: left\"> Displacement (cu.in.) measures overall volume in the engine as a factor of cylinder circumfrance, depth and total number of cylinders. This metric is a good proxy for the total amount of power the engine can generate.</div> |\n",
    "| <div style=\"text-align: left\"> hp </div> | <div style=\"text-align: left\"> Gross horsepower measures the theoretical output of an engine’s power output.</div> |\n",
    "| <div style=\"text-align: left\"> drat </div> | <div style=\"text-align: left\"> Rear axle ratio indicates the number of turns of the drive shaft for every one rotation of the wheel axle. A vehicle with a high ratio would provide more torque. </div> |\n",
    "| <div style=\"text-align: left\"> wt </div> | <div style=\"text-align: left\"> Weight of the car per 1,000 lbs. </div>|\n",
    "| <div style=\"text-align: left\"> qsec </div> | <div style=\"text-align: left\"> Quarter mile time is a performance measure of acceleration of the car.</div>|\n",
    "| <div style=\"text-align: left\"> vs </div> | <div style=\"text-align: left\"> Engine's cylinder configuration as V-shaped or straight. Configuration offers trade offs in power/torque, design usage in terms of space/size of engine and performance or center of gravity of vehicle. Values are (0 = V-shaped, 1 = straight) </div> |\n",
    "| <div style=\"text-align: left\"> am </div> | <div style=\"text-align: left\"> Automatic or Manual transmission. Values are (0 = automatic, 1 = manual) </div> |\n",
    "| <div style=\"text-align: left\"> gear </div> | <div style=\"text-align: left\"> Number of gears in the transmission.</div> |\n",
    "\n",
    "Reference:\n",
    "R data sets. (1974). <i>Motor trend car road tests<i> [Data file]. Retrieved from https://www.rdocumentation.org/packages/datasets/versions/3.6.2/topics/mtcars\n",
    "\n",
    "\n",
    "Click the code section below and hit the **Run** button above."
   ]
  },
  {
   "cell_type": "code",
   "execution_count": 1,
   "metadata": {
    "deletable": false,
    "editable": false
   },
   "outputs": [
    {
     "name": "stdout",
     "output_type": "stream",
     "text": [
      "[1] \"Variables\"\n"
     ]
    },
    {
     "data": {
      "text/html": [
       "<dl class=dl-horizontal>\n",
       "\t<dt>car</dt>\n",
       "\t\t<dd>'factor'</dd>\n",
       "\t<dt>mpg</dt>\n",
       "\t\t<dd>'numeric'</dd>\n",
       "\t<dt>cyl</dt>\n",
       "\t\t<dd>'factor'</dd>\n",
       "\t<dt>disp</dt>\n",
       "\t\t<dd>'numeric'</dd>\n",
       "\t<dt>hp</dt>\n",
       "\t\t<dd>'integer'</dd>\n",
       "\t<dt>drat</dt>\n",
       "\t\t<dd>'numeric'</dd>\n",
       "\t<dt>wt</dt>\n",
       "\t\t<dd>'numeric'</dd>\n",
       "\t<dt>qsec</dt>\n",
       "\t\t<dd>'numeric'</dd>\n",
       "\t<dt>vs</dt>\n",
       "\t\t<dd>'factor'</dd>\n",
       "\t<dt>am</dt>\n",
       "\t\t<dd>'factor'</dd>\n",
       "\t<dt>gear</dt>\n",
       "\t\t<dd>'factor'</dd>\n",
       "\t<dt>carb</dt>\n",
       "\t\t<dd>'factor'</dd>\n",
       "</dl>\n"
      ],
      "text/latex": [
       "\\begin{description*}\n",
       "\\item[car] 'factor'\n",
       "\\item[mpg] 'numeric'\n",
       "\\item[cyl] 'factor'\n",
       "\\item[disp] 'numeric'\n",
       "\\item[hp] 'integer'\n",
       "\\item[drat] 'numeric'\n",
       "\\item[wt] 'numeric'\n",
       "\\item[qsec] 'numeric'\n",
       "\\item[vs] 'factor'\n",
       "\\item[am] 'factor'\n",
       "\\item[gear] 'factor'\n",
       "\\item[carb] 'factor'\n",
       "\\end{description*}\n"
      ],
      "text/markdown": [
       "car\n",
       ":   'factor'mpg\n",
       ":   'numeric'cyl\n",
       ":   'factor'disp\n",
       ":   'numeric'hp\n",
       ":   'integer'drat\n",
       ":   'numeric'wt\n",
       ":   'numeric'qsec\n",
       ":   'numeric'vs\n",
       ":   'factor'am\n",
       ":   'factor'gear\n",
       ":   'factor'carb\n",
       ":   'factor'\n",
       "\n"
      ],
      "text/plain": [
       "      car       mpg       cyl      disp        hp      drat        wt      qsec \n",
       " \"factor\" \"numeric\"  \"factor\" \"numeric\" \"integer\" \"numeric\" \"numeric\" \"numeric\" \n",
       "       vs        am      gear      carb \n",
       " \"factor\"  \"factor\"  \"factor\"  \"factor\" "
      ]
     },
     "metadata": {},
     "output_type": "display_data"
    },
    {
     "name": "stdout",
     "output_type": "stream",
     "text": [
      "[1] \"dataset\"\n"
     ]
    },
    {
     "data": {
      "text/html": [
       "<table>\n",
       "<caption>A data.frame: 32 × 12</caption>\n",
       "<thead>\n",
       "\t<tr><th scope=col>car</th><th scope=col>mpg</th><th scope=col>cyl</th><th scope=col>disp</th><th scope=col>hp</th><th scope=col>drat</th><th scope=col>wt</th><th scope=col>qsec</th><th scope=col>vs</th><th scope=col>am</th><th scope=col>gear</th><th scope=col>carb</th></tr>\n",
       "\t<tr><th scope=col>&lt;fct&gt;</th><th scope=col>&lt;dbl&gt;</th><th scope=col>&lt;fct&gt;</th><th scope=col>&lt;dbl&gt;</th><th scope=col>&lt;int&gt;</th><th scope=col>&lt;dbl&gt;</th><th scope=col>&lt;dbl&gt;</th><th scope=col>&lt;dbl&gt;</th><th scope=col>&lt;fct&gt;</th><th scope=col>&lt;fct&gt;</th><th scope=col>&lt;fct&gt;</th><th scope=col>&lt;fct&gt;</th></tr>\n",
       "</thead>\n",
       "<tbody>\n",
       "\t<tr><td>Mazda RX4          </td><td>21.0</td><td>6</td><td>160.0</td><td>110</td><td>3.90</td><td>2.620</td><td>16.46</td><td>0</td><td>1</td><td>4</td><td>4</td></tr>\n",
       "\t<tr><td>Mazda RX4 Wag      </td><td>21.0</td><td>6</td><td>160.0</td><td>110</td><td>3.90</td><td>2.875</td><td>17.02</td><td>0</td><td>1</td><td>4</td><td>4</td></tr>\n",
       "\t<tr><td>Datsun 710         </td><td>22.8</td><td>4</td><td>108.0</td><td> 93</td><td>3.85</td><td>2.320</td><td>18.61</td><td>1</td><td>1</td><td>4</td><td>1</td></tr>\n",
       "\t<tr><td>Hornet 4 Drive     </td><td>21.4</td><td>6</td><td>258.0</td><td>110</td><td>3.08</td><td>3.215</td><td>19.44</td><td>1</td><td>0</td><td>3</td><td>1</td></tr>\n",
       "\t<tr><td>Hornet Sportabout  </td><td>18.7</td><td>8</td><td>360.0</td><td>175</td><td>3.15</td><td>3.440</td><td>17.02</td><td>0</td><td>0</td><td>3</td><td>2</td></tr>\n",
       "\t<tr><td>Valiant            </td><td>18.1</td><td>6</td><td>225.0</td><td>105</td><td>2.76</td><td>3.460</td><td>20.22</td><td>1</td><td>0</td><td>3</td><td>1</td></tr>\n",
       "\t<tr><td>Duster 360         </td><td>14.3</td><td>8</td><td>360.0</td><td>245</td><td>3.21</td><td>3.570</td><td>15.84</td><td>0</td><td>0</td><td>3</td><td>4</td></tr>\n",
       "\t<tr><td>Merc 240D          </td><td>24.4</td><td>4</td><td>146.7</td><td> 62</td><td>3.69</td><td>3.190</td><td>20.00</td><td>1</td><td>0</td><td>4</td><td>2</td></tr>\n",
       "\t<tr><td>Merc 230           </td><td>22.8</td><td>4</td><td>140.8</td><td> 95</td><td>3.92</td><td>3.150</td><td>22.90</td><td>1</td><td>0</td><td>4</td><td>2</td></tr>\n",
       "\t<tr><td>Merc 280           </td><td>19.2</td><td>6</td><td>167.6</td><td>123</td><td>3.92</td><td>3.440</td><td>18.30</td><td>1</td><td>0</td><td>4</td><td>4</td></tr>\n",
       "\t<tr><td>Merc 280C          </td><td>17.8</td><td>6</td><td>167.6</td><td>123</td><td>3.92</td><td>3.440</td><td>18.90</td><td>1</td><td>0</td><td>4</td><td>4</td></tr>\n",
       "\t<tr><td>Merc 450SE         </td><td>16.4</td><td>8</td><td>275.8</td><td>180</td><td>3.07</td><td>4.070</td><td>17.40</td><td>0</td><td>0</td><td>3</td><td>3</td></tr>\n",
       "\t<tr><td>Merc 450SL         </td><td>17.3</td><td>8</td><td>275.8</td><td>180</td><td>3.07</td><td>3.730</td><td>17.60</td><td>0</td><td>0</td><td>3</td><td>3</td></tr>\n",
       "\t<tr><td>Merc 450SLC        </td><td>15.2</td><td>8</td><td>275.8</td><td>180</td><td>3.07</td><td>3.780</td><td>18.00</td><td>0</td><td>0</td><td>3</td><td>3</td></tr>\n",
       "\t<tr><td>Cadillac Fleetwood </td><td>10.4</td><td>8</td><td>472.0</td><td>205</td><td>2.93</td><td>5.250</td><td>17.98</td><td>0</td><td>0</td><td>3</td><td>4</td></tr>\n",
       "\t<tr><td>Lincoln Continental</td><td>10.4</td><td>8</td><td>460.0</td><td>215</td><td>3.00</td><td>5.424</td><td>17.82</td><td>0</td><td>0</td><td>3</td><td>4</td></tr>\n",
       "\t<tr><td>Chrysler Imperial  </td><td>14.7</td><td>8</td><td>440.0</td><td>230</td><td>3.23</td><td>5.345</td><td>17.42</td><td>0</td><td>0</td><td>3</td><td>4</td></tr>\n",
       "\t<tr><td>Fiat 128           </td><td>32.4</td><td>4</td><td> 78.7</td><td> 66</td><td>4.08</td><td>2.200</td><td>19.47</td><td>1</td><td>1</td><td>4</td><td>1</td></tr>\n",
       "\t<tr><td>Honda Civic        </td><td>30.4</td><td>4</td><td> 75.7</td><td> 52</td><td>4.93</td><td>1.615</td><td>18.52</td><td>1</td><td>1</td><td>4</td><td>2</td></tr>\n",
       "\t<tr><td>Toyota Corolla     </td><td>33.9</td><td>4</td><td> 71.1</td><td> 65</td><td>4.22</td><td>1.835</td><td>19.90</td><td>1</td><td>1</td><td>4</td><td>1</td></tr>\n",
       "\t<tr><td>Toyota Corona      </td><td>21.5</td><td>4</td><td>120.1</td><td> 97</td><td>3.70</td><td>2.465</td><td>20.01</td><td>1</td><td>0</td><td>3</td><td>1</td></tr>\n",
       "\t<tr><td>Dodge Challenger   </td><td>15.5</td><td>8</td><td>318.0</td><td>150</td><td>2.76</td><td>3.520</td><td>16.87</td><td>0</td><td>0</td><td>3</td><td>2</td></tr>\n",
       "\t<tr><td>AMC Javelin        </td><td>15.2</td><td>8</td><td>304.0</td><td>150</td><td>3.15</td><td>3.435</td><td>17.30</td><td>0</td><td>0</td><td>3</td><td>2</td></tr>\n",
       "\t<tr><td>Camaro Z28         </td><td>13.3</td><td>8</td><td>350.0</td><td>245</td><td>3.73</td><td>3.840</td><td>15.41</td><td>0</td><td>0</td><td>3</td><td>4</td></tr>\n",
       "\t<tr><td>Pontiac Firebird   </td><td>19.2</td><td>8</td><td>400.0</td><td>175</td><td>3.08</td><td>3.845</td><td>17.05</td><td>0</td><td>0</td><td>3</td><td>2</td></tr>\n",
       "\t<tr><td>Fiat X1-9          </td><td>27.3</td><td>4</td><td> 79.0</td><td> 66</td><td>4.08</td><td>1.935</td><td>18.90</td><td>1</td><td>1</td><td>4</td><td>1</td></tr>\n",
       "\t<tr><td>Porsche 914-2      </td><td>26.0</td><td>4</td><td>120.3</td><td> 91</td><td>4.43</td><td>2.140</td><td>16.70</td><td>0</td><td>1</td><td>5</td><td>2</td></tr>\n",
       "\t<tr><td>Lotus Europa       </td><td>30.4</td><td>4</td><td> 95.1</td><td>113</td><td>3.77</td><td>1.513</td><td>16.90</td><td>1</td><td>1</td><td>5</td><td>2</td></tr>\n",
       "\t<tr><td>Ford Pantera L     </td><td>15.8</td><td>8</td><td>351.0</td><td>264</td><td>4.22</td><td>3.170</td><td>14.50</td><td>0</td><td>1</td><td>5</td><td>4</td></tr>\n",
       "\t<tr><td>Ferrari Dino       </td><td>19.7</td><td>6</td><td>145.0</td><td>175</td><td>3.62</td><td>2.770</td><td>15.50</td><td>0</td><td>1</td><td>5</td><td>6</td></tr>\n",
       "\t<tr><td>Maserati Bora      </td><td>15.0</td><td>8</td><td>301.0</td><td>335</td><td>3.54</td><td>3.570</td><td>14.60</td><td>0</td><td>1</td><td>5</td><td>8</td></tr>\n",
       "\t<tr><td>Volvo 142E         </td><td>21.4</td><td>4</td><td>121.0</td><td>109</td><td>4.11</td><td>2.780</td><td>18.60</td><td>1</td><td>1</td><td>4</td><td>2</td></tr>\n",
       "</tbody>\n",
       "</table>\n"
      ],
      "text/latex": [
       "A data.frame: 32 × 12\n",
       "\\begin{tabular}{r|llllllllllll}\n",
       " car & mpg & cyl & disp & hp & drat & wt & qsec & vs & am & gear & carb\\\\\n",
       " <fct> & <dbl> & <fct> & <dbl> & <int> & <dbl> & <dbl> & <dbl> & <fct> & <fct> & <fct> & <fct>\\\\\n",
       "\\hline\n",
       "\t Mazda RX4           & 21.0 & 6 & 160.0 & 110 & 3.90 & 2.620 & 16.46 & 0 & 1 & 4 & 4\\\\\n",
       "\t Mazda RX4 Wag       & 21.0 & 6 & 160.0 & 110 & 3.90 & 2.875 & 17.02 & 0 & 1 & 4 & 4\\\\\n",
       "\t Datsun 710          & 22.8 & 4 & 108.0 &  93 & 3.85 & 2.320 & 18.61 & 1 & 1 & 4 & 1\\\\\n",
       "\t Hornet 4 Drive      & 21.4 & 6 & 258.0 & 110 & 3.08 & 3.215 & 19.44 & 1 & 0 & 3 & 1\\\\\n",
       "\t Hornet Sportabout   & 18.7 & 8 & 360.0 & 175 & 3.15 & 3.440 & 17.02 & 0 & 0 & 3 & 2\\\\\n",
       "\t Valiant             & 18.1 & 6 & 225.0 & 105 & 2.76 & 3.460 & 20.22 & 1 & 0 & 3 & 1\\\\\n",
       "\t Duster 360          & 14.3 & 8 & 360.0 & 245 & 3.21 & 3.570 & 15.84 & 0 & 0 & 3 & 4\\\\\n",
       "\t Merc 240D           & 24.4 & 4 & 146.7 &  62 & 3.69 & 3.190 & 20.00 & 1 & 0 & 4 & 2\\\\\n",
       "\t Merc 230            & 22.8 & 4 & 140.8 &  95 & 3.92 & 3.150 & 22.90 & 1 & 0 & 4 & 2\\\\\n",
       "\t Merc 280            & 19.2 & 6 & 167.6 & 123 & 3.92 & 3.440 & 18.30 & 1 & 0 & 4 & 4\\\\\n",
       "\t Merc 280C           & 17.8 & 6 & 167.6 & 123 & 3.92 & 3.440 & 18.90 & 1 & 0 & 4 & 4\\\\\n",
       "\t Merc 450SE          & 16.4 & 8 & 275.8 & 180 & 3.07 & 4.070 & 17.40 & 0 & 0 & 3 & 3\\\\\n",
       "\t Merc 450SL          & 17.3 & 8 & 275.8 & 180 & 3.07 & 3.730 & 17.60 & 0 & 0 & 3 & 3\\\\\n",
       "\t Merc 450SLC         & 15.2 & 8 & 275.8 & 180 & 3.07 & 3.780 & 18.00 & 0 & 0 & 3 & 3\\\\\n",
       "\t Cadillac Fleetwood  & 10.4 & 8 & 472.0 & 205 & 2.93 & 5.250 & 17.98 & 0 & 0 & 3 & 4\\\\\n",
       "\t Lincoln Continental & 10.4 & 8 & 460.0 & 215 & 3.00 & 5.424 & 17.82 & 0 & 0 & 3 & 4\\\\\n",
       "\t Chrysler Imperial   & 14.7 & 8 & 440.0 & 230 & 3.23 & 5.345 & 17.42 & 0 & 0 & 3 & 4\\\\\n",
       "\t Fiat 128            & 32.4 & 4 &  78.7 &  66 & 4.08 & 2.200 & 19.47 & 1 & 1 & 4 & 1\\\\\n",
       "\t Honda Civic         & 30.4 & 4 &  75.7 &  52 & 4.93 & 1.615 & 18.52 & 1 & 1 & 4 & 2\\\\\n",
       "\t Toyota Corolla      & 33.9 & 4 &  71.1 &  65 & 4.22 & 1.835 & 19.90 & 1 & 1 & 4 & 1\\\\\n",
       "\t Toyota Corona       & 21.5 & 4 & 120.1 &  97 & 3.70 & 2.465 & 20.01 & 1 & 0 & 3 & 1\\\\\n",
       "\t Dodge Challenger    & 15.5 & 8 & 318.0 & 150 & 2.76 & 3.520 & 16.87 & 0 & 0 & 3 & 2\\\\\n",
       "\t AMC Javelin         & 15.2 & 8 & 304.0 & 150 & 3.15 & 3.435 & 17.30 & 0 & 0 & 3 & 2\\\\\n",
       "\t Camaro Z28          & 13.3 & 8 & 350.0 & 245 & 3.73 & 3.840 & 15.41 & 0 & 0 & 3 & 4\\\\\n",
       "\t Pontiac Firebird    & 19.2 & 8 & 400.0 & 175 & 3.08 & 3.845 & 17.05 & 0 & 0 & 3 & 2\\\\\n",
       "\t Fiat X1-9           & 27.3 & 4 &  79.0 &  66 & 4.08 & 1.935 & 18.90 & 1 & 1 & 4 & 1\\\\\n",
       "\t Porsche 914-2       & 26.0 & 4 & 120.3 &  91 & 4.43 & 2.140 & 16.70 & 0 & 1 & 5 & 2\\\\\n",
       "\t Lotus Europa        & 30.4 & 4 &  95.1 & 113 & 3.77 & 1.513 & 16.90 & 1 & 1 & 5 & 2\\\\\n",
       "\t Ford Pantera L      & 15.8 & 8 & 351.0 & 264 & 4.22 & 3.170 & 14.50 & 0 & 1 & 5 & 4\\\\\n",
       "\t Ferrari Dino        & 19.7 & 6 & 145.0 & 175 & 3.62 & 2.770 & 15.50 & 0 & 1 & 5 & 6\\\\\n",
       "\t Maserati Bora       & 15.0 & 8 & 301.0 & 335 & 3.54 & 3.570 & 14.60 & 0 & 1 & 5 & 8\\\\\n",
       "\t Volvo 142E          & 21.4 & 4 & 121.0 & 109 & 4.11 & 2.780 & 18.60 & 1 & 1 & 4 & 2\\\\\n",
       "\\end{tabular}\n"
      ],
      "text/markdown": [
       "\n",
       "A data.frame: 32 × 12\n",
       "\n",
       "| car &lt;fct&gt; | mpg &lt;dbl&gt; | cyl &lt;fct&gt; | disp &lt;dbl&gt; | hp &lt;int&gt; | drat &lt;dbl&gt; | wt &lt;dbl&gt; | qsec &lt;dbl&gt; | vs &lt;fct&gt; | am &lt;fct&gt; | gear &lt;fct&gt; | carb &lt;fct&gt; |\n",
       "|---|---|---|---|---|---|---|---|---|---|---|---|\n",
       "| Mazda RX4           | 21.0 | 6 | 160.0 | 110 | 3.90 | 2.620 | 16.46 | 0 | 1 | 4 | 4 |\n",
       "| Mazda RX4 Wag       | 21.0 | 6 | 160.0 | 110 | 3.90 | 2.875 | 17.02 | 0 | 1 | 4 | 4 |\n",
       "| Datsun 710          | 22.8 | 4 | 108.0 |  93 | 3.85 | 2.320 | 18.61 | 1 | 1 | 4 | 1 |\n",
       "| Hornet 4 Drive      | 21.4 | 6 | 258.0 | 110 | 3.08 | 3.215 | 19.44 | 1 | 0 | 3 | 1 |\n",
       "| Hornet Sportabout   | 18.7 | 8 | 360.0 | 175 | 3.15 | 3.440 | 17.02 | 0 | 0 | 3 | 2 |\n",
       "| Valiant             | 18.1 | 6 | 225.0 | 105 | 2.76 | 3.460 | 20.22 | 1 | 0 | 3 | 1 |\n",
       "| Duster 360          | 14.3 | 8 | 360.0 | 245 | 3.21 | 3.570 | 15.84 | 0 | 0 | 3 | 4 |\n",
       "| Merc 240D           | 24.4 | 4 | 146.7 |  62 | 3.69 | 3.190 | 20.00 | 1 | 0 | 4 | 2 |\n",
       "| Merc 230            | 22.8 | 4 | 140.8 |  95 | 3.92 | 3.150 | 22.90 | 1 | 0 | 4 | 2 |\n",
       "| Merc 280            | 19.2 | 6 | 167.6 | 123 | 3.92 | 3.440 | 18.30 | 1 | 0 | 4 | 4 |\n",
       "| Merc 280C           | 17.8 | 6 | 167.6 | 123 | 3.92 | 3.440 | 18.90 | 1 | 0 | 4 | 4 |\n",
       "| Merc 450SE          | 16.4 | 8 | 275.8 | 180 | 3.07 | 4.070 | 17.40 | 0 | 0 | 3 | 3 |\n",
       "| Merc 450SL          | 17.3 | 8 | 275.8 | 180 | 3.07 | 3.730 | 17.60 | 0 | 0 | 3 | 3 |\n",
       "| Merc 450SLC         | 15.2 | 8 | 275.8 | 180 | 3.07 | 3.780 | 18.00 | 0 | 0 | 3 | 3 |\n",
       "| Cadillac Fleetwood  | 10.4 | 8 | 472.0 | 205 | 2.93 | 5.250 | 17.98 | 0 | 0 | 3 | 4 |\n",
       "| Lincoln Continental | 10.4 | 8 | 460.0 | 215 | 3.00 | 5.424 | 17.82 | 0 | 0 | 3 | 4 |\n",
       "| Chrysler Imperial   | 14.7 | 8 | 440.0 | 230 | 3.23 | 5.345 | 17.42 | 0 | 0 | 3 | 4 |\n",
       "| Fiat 128            | 32.4 | 4 |  78.7 |  66 | 4.08 | 2.200 | 19.47 | 1 | 1 | 4 | 1 |\n",
       "| Honda Civic         | 30.4 | 4 |  75.7 |  52 | 4.93 | 1.615 | 18.52 | 1 | 1 | 4 | 2 |\n",
       "| Toyota Corolla      | 33.9 | 4 |  71.1 |  65 | 4.22 | 1.835 | 19.90 | 1 | 1 | 4 | 1 |\n",
       "| Toyota Corona       | 21.5 | 4 | 120.1 |  97 | 3.70 | 2.465 | 20.01 | 1 | 0 | 3 | 1 |\n",
       "| Dodge Challenger    | 15.5 | 8 | 318.0 | 150 | 2.76 | 3.520 | 16.87 | 0 | 0 | 3 | 2 |\n",
       "| AMC Javelin         | 15.2 | 8 | 304.0 | 150 | 3.15 | 3.435 | 17.30 | 0 | 0 | 3 | 2 |\n",
       "| Camaro Z28          | 13.3 | 8 | 350.0 | 245 | 3.73 | 3.840 | 15.41 | 0 | 0 | 3 | 4 |\n",
       "| Pontiac Firebird    | 19.2 | 8 | 400.0 | 175 | 3.08 | 3.845 | 17.05 | 0 | 0 | 3 | 2 |\n",
       "| Fiat X1-9           | 27.3 | 4 |  79.0 |  66 | 4.08 | 1.935 | 18.90 | 1 | 1 | 4 | 1 |\n",
       "| Porsche 914-2       | 26.0 | 4 | 120.3 |  91 | 4.43 | 2.140 | 16.70 | 0 | 1 | 5 | 2 |\n",
       "| Lotus Europa        | 30.4 | 4 |  95.1 | 113 | 3.77 | 1.513 | 16.90 | 1 | 1 | 5 | 2 |\n",
       "| Ford Pantera L      | 15.8 | 8 | 351.0 | 264 | 4.22 | 3.170 | 14.50 | 0 | 1 | 5 | 4 |\n",
       "| Ferrari Dino        | 19.7 | 6 | 145.0 | 175 | 3.62 | 2.770 | 15.50 | 0 | 1 | 5 | 6 |\n",
       "| Maserati Bora       | 15.0 | 8 | 301.0 | 335 | 3.54 | 3.570 | 14.60 | 0 | 1 | 5 | 8 |\n",
       "| Volvo 142E          | 21.4 | 4 | 121.0 | 109 | 4.11 | 2.780 | 18.60 | 1 | 1 | 4 | 2 |\n",
       "\n"
      ],
      "text/plain": [
       "   car                 mpg  cyl disp  hp  drat wt    qsec  vs am gear carb\n",
       "1  Mazda RX4           21.0 6   160.0 110 3.90 2.620 16.46 0  1  4    4   \n",
       "2  Mazda RX4 Wag       21.0 6   160.0 110 3.90 2.875 17.02 0  1  4    4   \n",
       "3  Datsun 710          22.8 4   108.0  93 3.85 2.320 18.61 1  1  4    1   \n",
       "4  Hornet 4 Drive      21.4 6   258.0 110 3.08 3.215 19.44 1  0  3    1   \n",
       "5  Hornet Sportabout   18.7 8   360.0 175 3.15 3.440 17.02 0  0  3    2   \n",
       "6  Valiant             18.1 6   225.0 105 2.76 3.460 20.22 1  0  3    1   \n",
       "7  Duster 360          14.3 8   360.0 245 3.21 3.570 15.84 0  0  3    4   \n",
       "8  Merc 240D           24.4 4   146.7  62 3.69 3.190 20.00 1  0  4    2   \n",
       "9  Merc 230            22.8 4   140.8  95 3.92 3.150 22.90 1  0  4    2   \n",
       "10 Merc 280            19.2 6   167.6 123 3.92 3.440 18.30 1  0  4    4   \n",
       "11 Merc 280C           17.8 6   167.6 123 3.92 3.440 18.90 1  0  4    4   \n",
       "12 Merc 450SE          16.4 8   275.8 180 3.07 4.070 17.40 0  0  3    3   \n",
       "13 Merc 450SL          17.3 8   275.8 180 3.07 3.730 17.60 0  0  3    3   \n",
       "14 Merc 450SLC         15.2 8   275.8 180 3.07 3.780 18.00 0  0  3    3   \n",
       "15 Cadillac Fleetwood  10.4 8   472.0 205 2.93 5.250 17.98 0  0  3    4   \n",
       "16 Lincoln Continental 10.4 8   460.0 215 3.00 5.424 17.82 0  0  3    4   \n",
       "17 Chrysler Imperial   14.7 8   440.0 230 3.23 5.345 17.42 0  0  3    4   \n",
       "18 Fiat 128            32.4 4    78.7  66 4.08 2.200 19.47 1  1  4    1   \n",
       "19 Honda Civic         30.4 4    75.7  52 4.93 1.615 18.52 1  1  4    2   \n",
       "20 Toyota Corolla      33.9 4    71.1  65 4.22 1.835 19.90 1  1  4    1   \n",
       "21 Toyota Corona       21.5 4   120.1  97 3.70 2.465 20.01 1  0  3    1   \n",
       "22 Dodge Challenger    15.5 8   318.0 150 2.76 3.520 16.87 0  0  3    2   \n",
       "23 AMC Javelin         15.2 8   304.0 150 3.15 3.435 17.30 0  0  3    2   \n",
       "24 Camaro Z28          13.3 8   350.0 245 3.73 3.840 15.41 0  0  3    4   \n",
       "25 Pontiac Firebird    19.2 8   400.0 175 3.08 3.845 17.05 0  0  3    2   \n",
       "26 Fiat X1-9           27.3 4    79.0  66 4.08 1.935 18.90 1  1  4    1   \n",
       "27 Porsche 914-2       26.0 4   120.3  91 4.43 2.140 16.70 0  1  5    2   \n",
       "28 Lotus Europa        30.4 4    95.1 113 3.77 1.513 16.90 1  1  5    2   \n",
       "29 Ford Pantera L      15.8 8   351.0 264 4.22 3.170 14.50 0  1  5    4   \n",
       "30 Ferrari Dino        19.7 6   145.0 175 3.62 2.770 15.50 0  1  5    6   \n",
       "31 Maserati Bora       15.0 8   301.0 335 3.54 3.570 14.60 0  1  5    8   \n",
       "32 Volvo 142E          21.4 4   121.0 109 4.11 2.780 18.60 1  1  4    2   "
      ]
     },
     "metadata": {},
     "output_type": "display_data"
    },
    {
     "name": "stdout",
     "output_type": "stream",
     "text": [
      "[1] \"head\"\n"
     ]
    },
    {
     "data": {
      "text/html": [
       "<table>\n",
       "<caption>A data.frame: 10 × 12</caption>\n",
       "<thead>\n",
       "\t<tr><th scope=col>car</th><th scope=col>mpg</th><th scope=col>cyl</th><th scope=col>disp</th><th scope=col>hp</th><th scope=col>drat</th><th scope=col>wt</th><th scope=col>qsec</th><th scope=col>vs</th><th scope=col>am</th><th scope=col>gear</th><th scope=col>carb</th></tr>\n",
       "\t<tr><th scope=col>&lt;fct&gt;</th><th scope=col>&lt;dbl&gt;</th><th scope=col>&lt;fct&gt;</th><th scope=col>&lt;dbl&gt;</th><th scope=col>&lt;int&gt;</th><th scope=col>&lt;dbl&gt;</th><th scope=col>&lt;dbl&gt;</th><th scope=col>&lt;dbl&gt;</th><th scope=col>&lt;fct&gt;</th><th scope=col>&lt;fct&gt;</th><th scope=col>&lt;fct&gt;</th><th scope=col>&lt;fct&gt;</th></tr>\n",
       "</thead>\n",
       "<tbody>\n",
       "\t<tr><td>Mazda RX4        </td><td>21.0</td><td>6</td><td>160.0</td><td>110</td><td>3.90</td><td>2.620</td><td>16.46</td><td>0</td><td>1</td><td>4</td><td>4</td></tr>\n",
       "\t<tr><td>Mazda RX4 Wag    </td><td>21.0</td><td>6</td><td>160.0</td><td>110</td><td>3.90</td><td>2.875</td><td>17.02</td><td>0</td><td>1</td><td>4</td><td>4</td></tr>\n",
       "\t<tr><td>Datsun 710       </td><td>22.8</td><td>4</td><td>108.0</td><td> 93</td><td>3.85</td><td>2.320</td><td>18.61</td><td>1</td><td>1</td><td>4</td><td>1</td></tr>\n",
       "\t<tr><td>Hornet 4 Drive   </td><td>21.4</td><td>6</td><td>258.0</td><td>110</td><td>3.08</td><td>3.215</td><td>19.44</td><td>1</td><td>0</td><td>3</td><td>1</td></tr>\n",
       "\t<tr><td>Hornet Sportabout</td><td>18.7</td><td>8</td><td>360.0</td><td>175</td><td>3.15</td><td>3.440</td><td>17.02</td><td>0</td><td>0</td><td>3</td><td>2</td></tr>\n",
       "\t<tr><td>Valiant          </td><td>18.1</td><td>6</td><td>225.0</td><td>105</td><td>2.76</td><td>3.460</td><td>20.22</td><td>1</td><td>0</td><td>3</td><td>1</td></tr>\n",
       "\t<tr><td>Duster 360       </td><td>14.3</td><td>8</td><td>360.0</td><td>245</td><td>3.21</td><td>3.570</td><td>15.84</td><td>0</td><td>0</td><td>3</td><td>4</td></tr>\n",
       "\t<tr><td>Merc 240D        </td><td>24.4</td><td>4</td><td>146.7</td><td> 62</td><td>3.69</td><td>3.190</td><td>20.00</td><td>1</td><td>0</td><td>4</td><td>2</td></tr>\n",
       "\t<tr><td>Merc 230         </td><td>22.8</td><td>4</td><td>140.8</td><td> 95</td><td>3.92</td><td>3.150</td><td>22.90</td><td>1</td><td>0</td><td>4</td><td>2</td></tr>\n",
       "\t<tr><td>Merc 280         </td><td>19.2</td><td>6</td><td>167.6</td><td>123</td><td>3.92</td><td>3.440</td><td>18.30</td><td>1</td><td>0</td><td>4</td><td>4</td></tr>\n",
       "</tbody>\n",
       "</table>\n"
      ],
      "text/latex": [
       "A data.frame: 10 × 12\n",
       "\\begin{tabular}{r|llllllllllll}\n",
       " car & mpg & cyl & disp & hp & drat & wt & qsec & vs & am & gear & carb\\\\\n",
       " <fct> & <dbl> & <fct> & <dbl> & <int> & <dbl> & <dbl> & <dbl> & <fct> & <fct> & <fct> & <fct>\\\\\n",
       "\\hline\n",
       "\t Mazda RX4         & 21.0 & 6 & 160.0 & 110 & 3.90 & 2.620 & 16.46 & 0 & 1 & 4 & 4\\\\\n",
       "\t Mazda RX4 Wag     & 21.0 & 6 & 160.0 & 110 & 3.90 & 2.875 & 17.02 & 0 & 1 & 4 & 4\\\\\n",
       "\t Datsun 710        & 22.8 & 4 & 108.0 &  93 & 3.85 & 2.320 & 18.61 & 1 & 1 & 4 & 1\\\\\n",
       "\t Hornet 4 Drive    & 21.4 & 6 & 258.0 & 110 & 3.08 & 3.215 & 19.44 & 1 & 0 & 3 & 1\\\\\n",
       "\t Hornet Sportabout & 18.7 & 8 & 360.0 & 175 & 3.15 & 3.440 & 17.02 & 0 & 0 & 3 & 2\\\\\n",
       "\t Valiant           & 18.1 & 6 & 225.0 & 105 & 2.76 & 3.460 & 20.22 & 1 & 0 & 3 & 1\\\\\n",
       "\t Duster 360        & 14.3 & 8 & 360.0 & 245 & 3.21 & 3.570 & 15.84 & 0 & 0 & 3 & 4\\\\\n",
       "\t Merc 240D         & 24.4 & 4 & 146.7 &  62 & 3.69 & 3.190 & 20.00 & 1 & 0 & 4 & 2\\\\\n",
       "\t Merc 230          & 22.8 & 4 & 140.8 &  95 & 3.92 & 3.150 & 22.90 & 1 & 0 & 4 & 2\\\\\n",
       "\t Merc 280          & 19.2 & 6 & 167.6 & 123 & 3.92 & 3.440 & 18.30 & 1 & 0 & 4 & 4\\\\\n",
       "\\end{tabular}\n"
      ],
      "text/markdown": [
       "\n",
       "A data.frame: 10 × 12\n",
       "\n",
       "| car &lt;fct&gt; | mpg &lt;dbl&gt; | cyl &lt;fct&gt; | disp &lt;dbl&gt; | hp &lt;int&gt; | drat &lt;dbl&gt; | wt &lt;dbl&gt; | qsec &lt;dbl&gt; | vs &lt;fct&gt; | am &lt;fct&gt; | gear &lt;fct&gt; | carb &lt;fct&gt; |\n",
       "|---|---|---|---|---|---|---|---|---|---|---|---|\n",
       "| Mazda RX4         | 21.0 | 6 | 160.0 | 110 | 3.90 | 2.620 | 16.46 | 0 | 1 | 4 | 4 |\n",
       "| Mazda RX4 Wag     | 21.0 | 6 | 160.0 | 110 | 3.90 | 2.875 | 17.02 | 0 | 1 | 4 | 4 |\n",
       "| Datsun 710        | 22.8 | 4 | 108.0 |  93 | 3.85 | 2.320 | 18.61 | 1 | 1 | 4 | 1 |\n",
       "| Hornet 4 Drive    | 21.4 | 6 | 258.0 | 110 | 3.08 | 3.215 | 19.44 | 1 | 0 | 3 | 1 |\n",
       "| Hornet Sportabout | 18.7 | 8 | 360.0 | 175 | 3.15 | 3.440 | 17.02 | 0 | 0 | 3 | 2 |\n",
       "| Valiant           | 18.1 | 6 | 225.0 | 105 | 2.76 | 3.460 | 20.22 | 1 | 0 | 3 | 1 |\n",
       "| Duster 360        | 14.3 | 8 | 360.0 | 245 | 3.21 | 3.570 | 15.84 | 0 | 0 | 3 | 4 |\n",
       "| Merc 240D         | 24.4 | 4 | 146.7 |  62 | 3.69 | 3.190 | 20.00 | 1 | 0 | 4 | 2 |\n",
       "| Merc 230          | 22.8 | 4 | 140.8 |  95 | 3.92 | 3.150 | 22.90 | 1 | 0 | 4 | 2 |\n",
       "| Merc 280          | 19.2 | 6 | 167.6 | 123 | 3.92 | 3.440 | 18.30 | 1 | 0 | 4 | 4 |\n",
       "\n"
      ],
      "text/plain": [
       "   car               mpg  cyl disp  hp  drat wt    qsec  vs am gear carb\n",
       "1  Mazda RX4         21.0 6   160.0 110 3.90 2.620 16.46 0  1  4    4   \n",
       "2  Mazda RX4 Wag     21.0 6   160.0 110 3.90 2.875 17.02 0  1  4    4   \n",
       "3  Datsun 710        22.8 4   108.0  93 3.85 2.320 18.61 1  1  4    1   \n",
       "4  Hornet 4 Drive    21.4 6   258.0 110 3.08 3.215 19.44 1  0  3    1   \n",
       "5  Hornet Sportabout 18.7 8   360.0 175 3.15 3.440 17.02 0  0  3    2   \n",
       "6  Valiant           18.1 6   225.0 105 2.76 3.460 20.22 1  0  3    1   \n",
       "7  Duster 360        14.3 8   360.0 245 3.21 3.570 15.84 0  0  3    4   \n",
       "8  Merc 240D         24.4 4   146.7  62 3.69 3.190 20.00 1  0  4    2   \n",
       "9  Merc 230          22.8 4   140.8  95 3.92 3.150 22.90 1  0  4    2   \n",
       "10 Merc 280          19.2 6   167.6 123 3.92 3.440 18.30 1  0  4    4   "
      ]
     },
     "metadata": {},
     "output_type": "display_data"
    }
   ],
   "source": [
    "# Loading mtcars data set from a mtcars.csv file\n",
    "mtcars <- read.csv(file='mtcars.csv', header=TRUE, sep=\",\")\n",
    "\n",
    "# Converting appropriate variables to factors  \n",
    "mtcars2 <- within(mtcars, {\n",
    "   vs <- factor(vs)\n",
    "   am <- factor(am)\n",
    "   cyl  <- factor(cyl)\n",
    "   gear <- factor(gear)\n",
    "   carb <- factor(carb)\n",
    "})\n",
    "\n",
    "# Variables and their type\n",
    "print(\"Variables\")\n",
    "sapply(mtcars2, class)\n",
    "\n",
    "\n",
    "# Print the data set\n",
    "print(\"dataset\")\n",
    "mtcars2\n",
    "\n",
    "\n",
    "# Print the first 10 rows\n",
    "print(\"head\")\n",
    "head(mtcars2, 10)"
   ]
  },
  {
   "cell_type": "markdown",
   "metadata": {
    "deletable": false,
    "editable": false
   },
   "source": [
    "## Step 2: Basic Information on the Data Set\n",
    "In this step, you will use some R functions to obtain basic information on the data set. This includes obtaining the column (variable) names, the total number of variables, and the total number of rows. \n",
    "\n",
    "Click the code section below and hit the **Run** button above."
   ]
  },
  {
   "cell_type": "code",
   "execution_count": 2,
   "metadata": {
    "deletable": false,
    "editable": false
   },
   "outputs": [
    {
     "name": "stdout",
     "output_type": "stream",
     "text": [
      "[1] \"names\"\n"
     ]
    },
    {
     "data": {
      "text/html": [
       "<ol class=list-inline>\n",
       "\t<li>'car'</li>\n",
       "\t<li>'mpg'</li>\n",
       "\t<li>'cyl'</li>\n",
       "\t<li>'disp'</li>\n",
       "\t<li>'hp'</li>\n",
       "\t<li>'drat'</li>\n",
       "\t<li>'wt'</li>\n",
       "\t<li>'qsec'</li>\n",
       "\t<li>'vs'</li>\n",
       "\t<li>'am'</li>\n",
       "\t<li>'gear'</li>\n",
       "\t<li>'carb'</li>\n",
       "</ol>\n"
      ],
      "text/latex": [
       "\\begin{enumerate*}\n",
       "\\item 'car'\n",
       "\\item 'mpg'\n",
       "\\item 'cyl'\n",
       "\\item 'disp'\n",
       "\\item 'hp'\n",
       "\\item 'drat'\n",
       "\\item 'wt'\n",
       "\\item 'qsec'\n",
       "\\item 'vs'\n",
       "\\item 'am'\n",
       "\\item 'gear'\n",
       "\\item 'carb'\n",
       "\\end{enumerate*}\n"
      ],
      "text/markdown": [
       "1. 'car'\n",
       "2. 'mpg'\n",
       "3. 'cyl'\n",
       "4. 'disp'\n",
       "5. 'hp'\n",
       "6. 'drat'\n",
       "7. 'wt'\n",
       "8. 'qsec'\n",
       "9. 'vs'\n",
       "10. 'am'\n",
       "11. 'gear'\n",
       "12. 'carb'\n",
       "\n",
       "\n"
      ],
      "text/plain": [
       " [1] \"car\"  \"mpg\"  \"cyl\"  \"disp\" \"hp\"   \"drat\" \"wt\"   \"qsec\" \"vs\"   \"am\"  \n",
       "[11] \"gear\" \"carb\""
      ]
     },
     "metadata": {},
     "output_type": "display_data"
    },
    {
     "name": "stdout",
     "output_type": "stream",
     "text": [
      "[1] \"colnames\"\n"
     ]
    },
    {
     "data": {
      "text/html": [
       "<ol class=list-inline>\n",
       "\t<li>'car'</li>\n",
       "\t<li>'mpg'</li>\n",
       "\t<li>'cyl'</li>\n",
       "\t<li>'disp'</li>\n",
       "\t<li>'hp'</li>\n",
       "\t<li>'drat'</li>\n",
       "\t<li>'wt'</li>\n",
       "\t<li>'qsec'</li>\n",
       "\t<li>'vs'</li>\n",
       "\t<li>'am'</li>\n",
       "\t<li>'gear'</li>\n",
       "\t<li>'carb'</li>\n",
       "</ol>\n"
      ],
      "text/latex": [
       "\\begin{enumerate*}\n",
       "\\item 'car'\n",
       "\\item 'mpg'\n",
       "\\item 'cyl'\n",
       "\\item 'disp'\n",
       "\\item 'hp'\n",
       "\\item 'drat'\n",
       "\\item 'wt'\n",
       "\\item 'qsec'\n",
       "\\item 'vs'\n",
       "\\item 'am'\n",
       "\\item 'gear'\n",
       "\\item 'carb'\n",
       "\\end{enumerate*}\n"
      ],
      "text/markdown": [
       "1. 'car'\n",
       "2. 'mpg'\n",
       "3. 'cyl'\n",
       "4. 'disp'\n",
       "5. 'hp'\n",
       "6. 'drat'\n",
       "7. 'wt'\n",
       "8. 'qsec'\n",
       "9. 'vs'\n",
       "10. 'am'\n",
       "11. 'gear'\n",
       "12. 'carb'\n",
       "\n",
       "\n"
      ],
      "text/plain": [
       " [1] \"car\"  \"mpg\"  \"cyl\"  \"disp\" \"hp\"   \"drat\" \"wt\"   \"qsec\" \"vs\"   \"am\"  \n",
       "[11] \"gear\" \"carb\""
      ]
     },
     "metadata": {},
     "output_type": "display_data"
    },
    {
     "name": "stdout",
     "output_type": "stream",
     "text": [
      "[1] \"ncol\"\n"
     ]
    },
    {
     "data": {
      "text/html": [
       "12"
      ],
      "text/latex": [
       "12"
      ],
      "text/markdown": [
       "12"
      ],
      "text/plain": [
       "[1] 12"
      ]
     },
     "metadata": {},
     "output_type": "display_data"
    },
    {
     "name": "stdout",
     "output_type": "stream",
     "text": [
      "[1] \"nrow\"\n"
     ]
    },
    {
     "data": {
      "text/html": [
       "32"
      ],
      "text/latex": [
       "32"
      ],
      "text/markdown": [
       "32"
      ],
      "text/plain": [
       "[1] 32"
      ]
     },
     "metadata": {},
     "output_type": "display_data"
    }
   ],
   "source": [
    "# This prints the column names\n",
    "print(\"names\")\n",
    "names(mtcars2)\n",
    "\n",
    "# Another function that prints the column names\n",
    "print(\"colnames\")\n",
    "colnames(mtcars2)\n",
    "\n",
    "# Total number of columns in the data set\n",
    "print(\"ncol\")\n",
    "ncol(mtcars2)\n",
    "\n",
    "# Total number of rows in the data set\n",
    "print(\"nrow\")\n",
    "nrow(mtcars2)"
   ]
  },
  {
   "cell_type": "markdown",
   "metadata": {},
   "source": [
    " "
   ]
  },
  {
   "cell_type": "markdown",
   "metadata": {
    "deletable": false,
    "editable": false
   },
   "source": [
    "## Step 3: Histogram\n",
    "In this step, you will use the **hist** function in R to print the histogram for the variable **mpg** in the data set.  \n",
    "\n",
    "\n",
    "Click the block of code below and hit the **Run** button above.  \n",
    "NOTE: If the plot is not created, click the code section and hit the **Run** button again."
   ]
  },
  {
   "cell_type": "code",
   "execution_count": 3,
   "metadata": {
    "deletable": false,
    "editable": false,
    "scrolled": true
   },
   "outputs": [
    {
     "data": {
      "image/png": "[encoded data removed]",
      "text/plain": [
       "Plot with title \"Histogram for Fuel Economy\""
      ]
     },
     "metadata": {},
     "output_type": "display_data"
    }
   ],
   "source": [
    "hist(mtcars2$mpg, \n",
    "     main=\"Histogram for Fuel Economy\", \n",
    "     xlab=\"Miles Per Gallon\", \n",
    "     border=\"blue\", \n",
    "     col=\"green\",\n",
    "     xlim=c(5,40),\n",
    "     ylim=c(0,5),\n",
    "     las=1, \n",
    "     breaks=20)"
   ]
  },
  {
   "cell_type": "markdown",
   "metadata": {
    "deletable": false,
    "editable": false
   },
   "source": [
    "## Step 4: Scatterplot\n",
    "In this step, you will use the **plot** function in R to print the scatterplot for the variables **mpg** and **wt** in the data set.  \n",
    "\n",
    "\n",
    "Click the block of code below and hit the **Run** button above.  \n",
    "NOTE: If the plot is not created, click the code section and hit the **Run** button again."
   ]
  },
  {
   "cell_type": "code",
   "execution_count": 4,
   "metadata": {
    "deletable": false,
    "editable": false,
    "scrolled": true
   },
   "outputs": [
    {
     "data": {
      "image/png": "[encoded data removed]",
      "text/plain": [
       "Plot with title \"Scatterplot of Fuel Economy against Weight\""
      ]
     },
     "metadata": {},
     "output_type": "display_data"
    }
   ],
   "source": [
    "plot(mtcars2$wt, mtcars$mpg, \n",
    "     main = \"Scatterplot of Fuel Economy against Weight\",\n",
    "     xlab = \"Weight\", ylab = \"Fuel Economy\",\n",
    "     xlim=c(0, 8),\n",
    "     ylim=c(0, 50),\n",
    "     col=\"red\", \n",
    "     pch = 19, frame = FALSE)"
   ]
  },
  {
   "cell_type": "markdown",
   "metadata": {},
   "source": [
    " "
   ]
  },
  {
   "cell_type": "markdown",
   "metadata": {
    "deletable": false,
    "editable": false
   },
   "source": [
    "## Step 5: Subsetting Data and Correlation Matrix\n",
    "In this step, you will create a subset of the original data set to select some variables. Then, you will print the correlation matrix for the selected variables.\n",
    "\n",
    "Click the block of code below and hit the **Run** button above.  "
   ]
  },
  {
   "cell_type": "code",
   "execution_count": 5,
   "metadata": {
    "deletable": false,
    "editable": false
   },
   "outputs": [
    {
     "name": "stdout",
     "output_type": "stream",
     "text": [
      "[1] \"head\"\n"
     ]
    },
    {
     "data": {
      "text/html": [
       "<table>\n",
       "<caption>A data.frame: 10 × 3</caption>\n",
       "<thead>\n",
       "\t<tr><th scope=col>mpg</th><th scope=col>wt</th><th scope=col>qsec</th></tr>\n",
       "\t<tr><th scope=col>&lt;dbl&gt;</th><th scope=col>&lt;dbl&gt;</th><th scope=col>&lt;dbl&gt;</th></tr>\n",
       "</thead>\n",
       "<tbody>\n",
       "\t<tr><td>21.0</td><td>2.620</td><td>16.46</td></tr>\n",
       "\t<tr><td>21.0</td><td>2.875</td><td>17.02</td></tr>\n",
       "\t<tr><td>22.8</td><td>2.320</td><td>18.61</td></tr>\n",
       "\t<tr><td>21.4</td><td>3.215</td><td>19.44</td></tr>\n",
       "\t<tr><td>18.7</td><td>3.440</td><td>17.02</td></tr>\n",
       "\t<tr><td>18.1</td><td>3.460</td><td>20.22</td></tr>\n",
       "\t<tr><td>14.3</td><td>3.570</td><td>15.84</td></tr>\n",
       "\t<tr><td>24.4</td><td>3.190</td><td>20.00</td></tr>\n",
       "\t<tr><td>22.8</td><td>3.150</td><td>22.90</td></tr>\n",
       "\t<tr><td>19.2</td><td>3.440</td><td>18.30</td></tr>\n",
       "</tbody>\n",
       "</table>\n"
      ],
      "text/latex": [
       "A data.frame: 10 × 3\n",
       "\\begin{tabular}{r|lll}\n",
       " mpg & wt & qsec\\\\\n",
       " <dbl> & <dbl> & <dbl>\\\\\n",
       "\\hline\n",
       "\t 21.0 & 2.620 & 16.46\\\\\n",
       "\t 21.0 & 2.875 & 17.02\\\\\n",
       "\t 22.8 & 2.320 & 18.61\\\\\n",
       "\t 21.4 & 3.215 & 19.44\\\\\n",
       "\t 18.7 & 3.440 & 17.02\\\\\n",
       "\t 18.1 & 3.460 & 20.22\\\\\n",
       "\t 14.3 & 3.570 & 15.84\\\\\n",
       "\t 24.4 & 3.190 & 20.00\\\\\n",
       "\t 22.8 & 3.150 & 22.90\\\\\n",
       "\t 19.2 & 3.440 & 18.30\\\\\n",
       "\\end{tabular}\n"
      ],
      "text/markdown": [
       "\n",
       "A data.frame: 10 × 3\n",
       "\n",
       "| mpg &lt;dbl&gt; | wt &lt;dbl&gt; | qsec &lt;dbl&gt; |\n",
       "|---|---|---|\n",
       "| 21.0 | 2.620 | 16.46 |\n",
       "| 21.0 | 2.875 | 17.02 |\n",
       "| 22.8 | 2.320 | 18.61 |\n",
       "| 21.4 | 3.215 | 19.44 |\n",
       "| 18.7 | 3.440 | 17.02 |\n",
       "| 18.1 | 3.460 | 20.22 |\n",
       "| 14.3 | 3.570 | 15.84 |\n",
       "| 24.4 | 3.190 | 20.00 |\n",
       "| 22.8 | 3.150 | 22.90 |\n",
       "| 19.2 | 3.440 | 18.30 |\n",
       "\n"
      ],
      "text/plain": [
       "   mpg  wt    qsec \n",
       "1  21.0 2.620 16.46\n",
       "2  21.0 2.875 17.02\n",
       "3  22.8 2.320 18.61\n",
       "4  21.4 3.215 19.44\n",
       "5  18.7 3.440 17.02\n",
       "6  18.1 3.460 20.22\n",
       "7  14.3 3.570 15.84\n",
       "8  24.4 3.190 20.00\n",
       "9  22.8 3.150 22.90\n",
       "10 19.2 3.440 18.30"
      ]
     },
     "metadata": {},
     "output_type": "display_data"
    },
    {
     "name": "stdout",
     "output_type": "stream",
     "text": [
      "[1] \"cor\"\n"
     ]
    },
    {
     "data": {
      "text/html": [
       "<table>\n",
       "<caption>A matrix: 3 × 3 of type dbl</caption>\n",
       "<thead>\n",
       "\t<tr><th></th><th scope=col>mpg</th><th scope=col>wt</th><th scope=col>qsec</th></tr>\n",
       "</thead>\n",
       "<tbody>\n",
       "\t<tr><th scope=row>mpg</th><td> 1.0000</td><td>-0.8677</td><td> 0.4187</td></tr>\n",
       "\t<tr><th scope=row>wt</th><td>-0.8677</td><td> 1.0000</td><td>-0.1747</td></tr>\n",
       "\t<tr><th scope=row>qsec</th><td> 0.4187</td><td>-0.1747</td><td> 1.0000</td></tr>\n",
       "</tbody>\n",
       "</table>\n"
      ],
      "text/latex": [
       "A matrix: 3 × 3 of type dbl\n",
       "\\begin{tabular}{r|lll}\n",
       "  & mpg & wt & qsec\\\\\n",
       "\\hline\n",
       "\tmpg &  1.0000 & -0.8677 &  0.4187\\\\\n",
       "\twt & -0.8677 &  1.0000 & -0.1747\\\\\n",
       "\tqsec &  0.4187 & -0.1747 &  1.0000\\\\\n",
       "\\end{tabular}\n"
      ],
      "text/markdown": [
       "\n",
       "A matrix: 3 × 3 of type dbl\n",
       "\n",
       "| <!--/--> | mpg | wt | qsec |\n",
       "|---|---|---|---|\n",
       "| mpg |  1.0000 | -0.8677 |  0.4187 |\n",
       "| wt | -0.8677 |  1.0000 | -0.1747 |\n",
       "| qsec |  0.4187 | -0.1747 |  1.0000 |\n",
       "\n"
      ],
      "text/plain": [
       "     mpg     wt      qsec   \n",
       "mpg   1.0000 -0.8677  0.4187\n",
       "wt   -0.8677  1.0000 -0.1747\n",
       "qsec  0.4187 -0.1747  1.0000"
      ]
     },
     "metadata": {},
     "output_type": "display_data"
    }
   ],
   "source": [
    "# Selecting mpg, wt, and qsec variables to subset the data\n",
    "myvars <- c(\"mpg\",\"wt\",\"qsec\")\n",
    "mtcars_subset <- mtcars2[myvars]\n",
    "\n",
    "# Print the first 10 rows\n",
    "print(\"head\")\n",
    "head(mtcars_subset, 10)\n",
    "\n",
    "# Print the correlation matrix\n",
    "print(\"cor\")\n",
    "corr_matrix <- cor(mtcars_subset, method = \"pearson\")\n",
    "round(corr_matrix, 4)"
   ]
  },
  {
   "cell_type": "markdown",
   "metadata": {
    "deletable": false,
    "editable": false
   },
   "source": [
    "## Step 6: Multiple Regression\n",
    "In this step, you will create a multiple regression model for fuel economy as the response variable, and weight and quarter mile time as predictor variables. You will print summary statistics of this model that will help evaluate the significance and utility of the model. \n",
    "\n",
    "The general form of this regression model is:\n",
    "\n",
    "\n",
    "<br><br>\n",
    "\\begin{equation*}\n",
    "\\large E(y) = {\\beta}_0\\ +\\ {\\beta}_1\\ {x}_1\\ +\\ {\\beta}_2\\ {x}_2\n",
    "\\end{equation*}\n",
    "<br><br>\n",
    "\n",
    "The prediction regression model equation is:\n",
    "\n",
    "<br><br>\n",
    "\\begin{equation*}\n",
    "\\large \\hat{y} = \\hat{{\\beta}_0} +\\ \\hat{{\\beta}_1}\\ {x}_1\\ +\\ \\hat{{\\beta}_2}\\ {x}_2\n",
    "\\end{equation*}\n",
    "<br><br>\n",
    "\n",
    "\\begin{equation*}\n",
    "\\text{where } \\hat{y} \\text{ is the predicted value of the fuel economy,}\\ {x}_1\\ \\text{is weight,}\\ {x}_2\\ \\text{is quarter mile time}\n",
    "\\end{equation*}\n",
    "\n",
    "\\begin{equation*}\n",
    "\\hat{{\\beta}_0} \\text{,} \\hspace{0.25cm} \\hat{{\\beta}_1} \\text{, } \\hspace{0.25cm} \\hat{{\\beta}_2} \\text{  } \\text{ are estimates of}\n",
    "\\text{  } {\\beta}_0\\ \\text{,} \\hspace{0.25cm} {\\beta}_1\\ \\text{,} \\hspace{0.25cm} {\\beta}_2\\ \\text{ respectively  }\n",
    "\\end{equation*}\n",
    "<br><br>\n",
    "\n",
    "Click the block of code below and hit the **Run** button above.  "
   ]
  },
  {
   "cell_type": "code",
   "execution_count": 6,
   "metadata": {
    "deletable": false,
    "editable": false,
    "scrolled": true
   },
   "outputs": [
    {
     "data": {
      "text/plain": [
       "\n",
       "Call:\n",
       "lm(formula = mpg ~ wt + qsec, data = mtcars_subset)\n",
       "\n",
       "Residuals:\n",
       "    Min      1Q  Median      3Q     Max \n",
       "-4.3962 -2.1431 -0.2129  1.4915  5.7486 \n",
       "\n",
       "Coefficients:\n",
       "            Estimate Std. Error t value Pr(>|t|)    \n",
       "(Intercept)  19.7462     5.2521   3.760 0.000765 ***\n",
       "wt           -5.0480     0.4840 -10.430 2.52e-11 ***\n",
       "qsec          0.9292     0.2650   3.506 0.001500 ** \n",
       "---\n",
       "Signif. codes:  0 '***' 0.001 '**' 0.01 '*' 0.05 '.' 0.1 ' ' 1\n",
       "\n",
       "Residual standard error: 2.596 on 29 degrees of freedom\n",
       "Multiple R-squared:  0.8264,\tAdjusted R-squared:  0.8144 \n",
       "F-statistic: 69.03 on 2 and 29 DF,  p-value: 9.395e-12\n"
      ]
     },
     "metadata": {},
     "output_type": "display_data"
    }
   ],
   "source": [
    "# Create the multiple regression model and print the statistics\n",
    "model <- lm(mpg ~ wt + qsec, data=mtcars_subset)\n",
    "summary(model)"
   ]
  },
  {
   "cell_type": "markdown",
   "metadata": {
    "deletable": false,
    "editable": false
   },
   "source": [
    "### Interpretation of Beta Estimates\n",
    "\n",
    "From the output in previous step, the prediction model equation is:\n",
    "<br><br>\n",
    "\\begin{equation*}\n",
    "\\large \\hat{y} = 19.7462\\ -\\ 5.0480\\ {x_1} +\\ 0.9292\\ {x_2}\n",
    "\\end{equation*}\n",
    "<br><br>\n",
    "\n",
    "**Interpret the estimated coefficient of weight variable. **\n",
    "\n",
    "* The estimated coefficient for variable weight is -5.0480. This means that on average, the fuel economy of the car drops (due to the negative sign) by 5.0480 for each 1 unit increase in weight of the car. Note that the variable weight is expressed in 1,000lbs (for example, a weight value of 3.45 in this dataset represents 3,450lbs). A 1 unit increase in weight is equal to 1,000lbs increase, therefore the fuel economy of the car drops by 5.0480 for each 1,000lbs increase in the weight."
   ]
  },
  {
   "cell_type": "markdown",
   "metadata": {},
   "source": [
    " "
   ]
  },
  {
   "cell_type": "markdown",
   "metadata": {
    "deletable": false,
    "editable": false
   },
   "source": [
    "## Step 7: Fitted Values\n",
    "In this step, you will obtain the fitted values of the data set. Recall that the fitted value is just the predicted value of the dependent variable (miles per gallon) for data points from the data set. \n",
    "\n",
    "Click the block of code below and hit the **Run** button above.  "
   ]
  },
  {
   "cell_type": "code",
   "execution_count": 7,
   "metadata": {
    "deletable": false,
    "editable": false
   },
   "outputs": [
    {
     "data": {
      "text/html": [
       "<dl class=dl-horizontal>\n",
       "\t<dt>1</dt>\n",
       "\t\t<dd>21.8151085451276</dd>\n",
       "\t<dt>2</dt>\n",
       "\t\t<dd>21.0482240080608</dd>\n",
       "\t<dt>3</dt>\n",
       "\t\t<dd>25.3272787960526</dd>\n",
       "\t<dt>4</dt>\n",
       "\t\t<dd>21.5805692444496</dd>\n",
       "\t<dt>5</dt>\n",
       "\t\t<dd>18.1961141877544</dd>\n",
       "\t<dt>6</dt>\n",
       "\t\t<dd>21.0685880827163</dd>\n",
       "\t<dt>7</dt>\n",
       "\t\t<dd>16.443422914094</dd>\n",
       "\t<dt>8</dt>\n",
       "\t\t<dd>22.227119662579</dd>\n",
       "\t<dt>9</dt>\n",
       "\t\t<dd>25.1237130826411</dd>\n",
       "\t<dt>10</dt>\n",
       "\t\t<dd>19.3854876016019</dd>\n",
       "\t<dt>11</dt>\n",
       "\t\t<dd>19.9430063893429</dd>\n",
       "\t<dt>12</dt>\n",
       "\t\t<dd>15.3689807707991</dd>\n",
       "\t<dt>13</dt>\n",
       "\t\t<dd>17.2711342408795</dd>\n",
       "\t<dt>14</dt>\n",
       "\t\t<dd>17.3904143335647</dd>\n",
       "\t<dt>15</dt>\n",
       "\t\t<dd>9.95129685919368</dd>\n",
       "\t<dt>16</dt>\n",
       "\t\t<dd>8.92427631744801</dd>\n",
       "\t<dt>17</dt>\n",
       "\t\t<dd>8.95138770226528</dd>\n",
       "\t<dt>18</dt>\n",
       "\t\t<dd>26.7321468964226</dd>\n",
       "\t<dt>19</dt>\n",
       "\t\t<dd>28.8024782757959</dd>\n",
       "\t<dt>20</dt>\n",
       "\t\t<dd>28.9742154513748</dd>\n",
       "\t<dt>21</dt>\n",
       "\t\t<dd>25.896198579936</dd>\n",
       "\t<dt>22</dt>\n",
       "\t\t<dd>17.6528959321916</dd>\n",
       "\t<dt>23</dt>\n",
       "\t\t<dd>18.4815295319477</dd>\n",
       "\t<dt>24</dt>\n",
       "\t\t<dd>14.6809126475119</dd>\n",
       "\t<dt>25</dt>\n",
       "\t\t<dd>16.1795574240899</dd>\n",
       "\t<dt>26</dt>\n",
       "\t\t<dd>27.5402192735221</dd>\n",
       "\t<dt>27</dt>\n",
       "\t\t<dd>24.4611474119887</dd>\n",
       "\t<dt>28</dt>\n",
       "\t\t<dd>27.8120717111451</dd>\n",
       "\t<dt>29</dt>\n",
       "\t\t<dd>17.2174904146097</dd>\n",
       "\t<dt>30</dt>\n",
       "\t\t<dd>20.1658811873154</dd>\n",
       "\t<dt>31</dt>\n",
       "\t\t<dd>15.2912174194292</dd>\n",
       "\t<dt>32</dt>\n",
       "\t\t<dd>22.995915104149</dd>\n",
       "</dl>\n"
      ],
      "text/latex": [
       "\\begin{description*}\n",
       "\\item[1] 21.8151085451276\n",
       "\\item[2] 21.0482240080608\n",
       "\\item[3] 25.3272787960526\n",
       "\\item[4] 21.5805692444496\n",
       "\\item[5] 18.1961141877544\n",
       "\\item[6] 21.0685880827163\n",
       "\\item[7] 16.443422914094\n",
       "\\item[8] 22.227119662579\n",
       "\\item[9] 25.1237130826411\n",
       "\\item[10] 19.3854876016019\n",
       "\\item[11] 19.9430063893429\n",
       "\\item[12] 15.3689807707991\n",
       "\\item[13] 17.2711342408795\n",
       "\\item[14] 17.3904143335647\n",
       "\\item[15] 9.95129685919368\n",
       "\\item[16] 8.92427631744801\n",
       "\\item[17] 8.95138770226528\n",
       "\\item[18] 26.7321468964226\n",
       "\\item[19] 28.8024782757959\n",
       "\\item[20] 28.9742154513748\n",
       "\\item[21] 25.896198579936\n",
       "\\item[22] 17.6528959321916\n",
       "\\item[23] 18.4815295319477\n",
       "\\item[24] 14.6809126475119\n",
       "\\item[25] 16.1795574240899\n",
       "\\item[26] 27.5402192735221\n",
       "\\item[27] 24.4611474119887\n",
       "\\item[28] 27.8120717111451\n",
       "\\item[29] 17.2174904146097\n",
       "\\item[30] 20.1658811873154\n",
       "\\item[31] 15.2912174194292\n",
       "\\item[32] 22.995915104149\n",
       "\\end{description*}\n"
      ],
      "text/markdown": [
       "1\n",
       ":   21.81510854512762\n",
       ":   21.04822400806083\n",
       ":   25.32727879605264\n",
       ":   21.58056924444965\n",
       ":   18.19611418775446\n",
       ":   21.06858808271637\n",
       ":   16.4434229140948\n",
       ":   22.2271196625799\n",
       ":   25.123713082641110\n",
       ":   19.385487601601911\n",
       ":   19.943006389342912\n",
       ":   15.368980770799113\n",
       ":   17.271134240879514\n",
       ":   17.390414333564715\n",
       ":   9.9512968591936816\n",
       ":   8.9242763174480117\n",
       ":   8.9513877022652818\n",
       ":   26.732146896422619\n",
       ":   28.802478275795920\n",
       ":   28.974215451374821\n",
       ":   25.89619857993622\n",
       ":   17.652895932191623\n",
       ":   18.481529531947724\n",
       ":   14.680912647511925\n",
       ":   16.179557424089926\n",
       ":   27.540219273522127\n",
       ":   24.461147411988728\n",
       ":   27.812071711145129\n",
       ":   17.217490414609730\n",
       ":   20.165881187315431\n",
       ":   15.291217419429232\n",
       ":   22.995915104149\n",
       "\n"
      ],
      "text/plain": [
       "        1         2         3         4         5         6         7         8 \n",
       "21.815109 21.048224 25.327279 21.580569 18.196114 21.068588 16.443423 22.227120 \n",
       "        9        10        11        12        13        14        15        16 \n",
       "25.123713 19.385488 19.943006 15.368981 17.271134 17.390414  9.951297  8.924276 \n",
       "       17        18        19        20        21        22        23        24 \n",
       " 8.951388 26.732147 28.802478 28.974215 25.896199 17.652896 18.481530 14.680913 \n",
       "       25        26        27        28        29        30        31        32 \n",
       "16.179557 27.540219 24.461147 27.812072 17.217490 20.165881 15.291217 22.995915 "
      ]
     },
     "metadata": {},
     "output_type": "display_data"
    }
   ],
   "source": [
    "fitted_values <- fitted.values(model) \n",
    "fitted_values"
   ]
  },
  {
   "cell_type": "markdown",
   "metadata": {},
   "source": [
    " "
   ]
  },
  {
   "cell_type": "markdown",
   "metadata": {
    "deletable": false,
    "editable": false
   },
   "source": [
    "## Step 8: Residuals\n",
    "In this step, you will obtain the residuals. Recall that the residual is the difference between the actual value and the predicted value of the dependent variable (miles per gallon). \n",
    "\n",
    "Click the block of code below and hit the **Run** button above.  "
   ]
  },
  {
   "cell_type": "code",
   "execution_count": 8,
   "metadata": {
    "deletable": false,
    "editable": false
   },
   "outputs": [
    {
     "data": {
      "text/html": [
       "<dl class=dl-horizontal>\n",
       "\t<dt>1</dt>\n",
       "\t\t<dd>-0.815108545127597</dd>\n",
       "\t<dt>2</dt>\n",
       "\t\t<dd>-0.0482240080608019</dd>\n",
       "\t<dt>3</dt>\n",
       "\t\t<dd>-2.52727879605257</dd>\n",
       "\t<dt>4</dt>\n",
       "\t\t<dd>-0.180569244449605</dd>\n",
       "\t<dt>5</dt>\n",
       "\t\t<dd>0.503885812245647</dd>\n",
       "\t<dt>6</dt>\n",
       "\t\t<dd>-2.96858808271634</dd>\n",
       "\t<dt>7</dt>\n",
       "\t\t<dd>-2.14342291409402</dd>\n",
       "\t<dt>8</dt>\n",
       "\t\t<dd>2.17288033742101</dd>\n",
       "\t<dt>9</dt>\n",
       "\t\t<dd>-2.32371308264105</dd>\n",
       "\t<dt>10</dt>\n",
       "\t\t<dd>-0.185487601601898</dd>\n",
       "\t<dt>11</dt>\n",
       "\t\t<dd>-2.14300638934293</dd>\n",
       "\t<dt>12</dt>\n",
       "\t\t<dd>1.03101922920092</dd>\n",
       "\t<dt>13</dt>\n",
       "\t\t<dd>0.0288657591205279</dd>\n",
       "\t<dt>14</dt>\n",
       "\t\t<dd>-2.19041433356467</dd>\n",
       "\t<dt>15</dt>\n",
       "\t\t<dd>0.448703140806316</dd>\n",
       "\t<dt>16</dt>\n",
       "\t\t<dd>1.47572368255199</dd>\n",
       "\t<dt>17</dt>\n",
       "\t\t<dd>5.74861229773472</dd>\n",
       "\t<dt>18</dt>\n",
       "\t\t<dd>5.66785310357742</dd>\n",
       "\t<dt>19</dt>\n",
       "\t\t<dd>1.59752172420408</dd>\n",
       "\t<dt>20</dt>\n",
       "\t\t<dd>4.92578454862522</dd>\n",
       "\t<dt>21</dt>\n",
       "\t\t<dd>-4.39619857993604</dd>\n",
       "\t<dt>22</dt>\n",
       "\t\t<dd>-2.15289593219163</dd>\n",
       "\t<dt>23</dt>\n",
       "\t\t<dd>-3.28152953194772</dd>\n",
       "\t<dt>24</dt>\n",
       "\t\t<dd>-1.38091264751193</dd>\n",
       "\t<dt>25</dt>\n",
       "\t\t<dd>3.02044257591012</dd>\n",
       "\t<dt>26</dt>\n",
       "\t\t<dd>-0.240219273522056</dd>\n",
       "\t<dt>27</dt>\n",
       "\t\t<dd>1.53885258801128</dd>\n",
       "\t<dt>28</dt>\n",
       "\t\t<dd>2.58792828885487</dd>\n",
       "\t<dt>29</dt>\n",
       "\t\t<dd>-1.41749041460968</dd>\n",
       "\t<dt>30</dt>\n",
       "\t\t<dd>-0.465881187315388</dd>\n",
       "\t<dt>31</dt>\n",
       "\t\t<dd>-0.291217419429215</dd>\n",
       "\t<dt>32</dt>\n",
       "\t\t<dd>-1.59591510414898</dd>\n",
       "</dl>\n"
      ],
      "text/latex": [
       "\\begin{description*}\n",
       "\\item[1] -0.815108545127597\n",
       "\\item[2] -0.0482240080608019\n",
       "\\item[3] -2.52727879605257\n",
       "\\item[4] -0.180569244449605\n",
       "\\item[5] 0.503885812245647\n",
       "\\item[6] -2.96858808271634\n",
       "\\item[7] -2.14342291409402\n",
       "\\item[8] 2.17288033742101\n",
       "\\item[9] -2.32371308264105\n",
       "\\item[10] -0.185487601601898\n",
       "\\item[11] -2.14300638934293\n",
       "\\item[12] 1.03101922920092\n",
       "\\item[13] 0.0288657591205279\n",
       "\\item[14] -2.19041433356467\n",
       "\\item[15] 0.448703140806316\n",
       "\\item[16] 1.47572368255199\n",
       "\\item[17] 5.74861229773472\n",
       "\\item[18] 5.66785310357742\n",
       "\\item[19] 1.59752172420408\n",
       "\\item[20] 4.92578454862522\n",
       "\\item[21] -4.39619857993604\n",
       "\\item[22] -2.15289593219163\n",
       "\\item[23] -3.28152953194772\n",
       "\\item[24] -1.38091264751193\n",
       "\\item[25] 3.02044257591012\n",
       "\\item[26] -0.240219273522056\n",
       "\\item[27] 1.53885258801128\n",
       "\\item[28] 2.58792828885487\n",
       "\\item[29] -1.41749041460968\n",
       "\\item[30] -0.465881187315388\n",
       "\\item[31] -0.291217419429215\n",
       "\\item[32] -1.59591510414898\n",
       "\\end{description*}\n"
      ],
      "text/markdown": [
       "1\n",
       ":   -0.8151085451275972\n",
       ":   -0.04822400806080193\n",
       ":   -2.527278796052574\n",
       ":   -0.1805692444496055\n",
       ":   0.5038858122456476\n",
       ":   -2.968588082716347\n",
       ":   -2.143422914094028\n",
       ":   2.172880337421019\n",
       ":   -2.3237130826410510\n",
       ":   -0.18548760160189811\n",
       ":   -2.1430063893429312\n",
       ":   1.0310192292009213\n",
       ":   0.028865759120527914\n",
       ":   -2.1904143335646715\n",
       ":   0.44870314080631616\n",
       ":   1.4757236825519917\n",
       ":   5.7486122977347218\n",
       ":   5.6678531035774219\n",
       ":   1.5975217242040820\n",
       ":   4.9257845486252221\n",
       ":   -4.3961985799360422\n",
       ":   -2.1528959321916323\n",
       ":   -3.2815295319477224\n",
       ":   -1.3809126475119325\n",
       ":   3.0204425759101226\n",
       ":   -0.24021927352205627\n",
       ":   1.5388525880112828\n",
       ":   2.5879282888548729\n",
       ":   -1.4174904146096830\n",
       ":   -0.46588118731538831\n",
       ":   -0.29121741942921532\n",
       ":   -1.59591510414898\n",
       "\n"
      ],
      "text/plain": [
       "          1           2           3           4           5           6 \n",
       "-0.81510855 -0.04822401 -2.52727880 -0.18056924  0.50388581 -2.96858808 \n",
       "          7           8           9          10          11          12 \n",
       "-2.14342291  2.17288034 -2.32371308 -0.18548760 -2.14300639  1.03101923 \n",
       "         13          14          15          16          17          18 \n",
       " 0.02886576 -2.19041433  0.44870314  1.47572368  5.74861230  5.66785310 \n",
       "         19          20          21          22          23          24 \n",
       " 1.59752172  4.92578455 -4.39619858 -2.15289593 -3.28152953 -1.38091265 \n",
       "         25          26          27          28          29          30 \n",
       " 3.02044258 -0.24021927  1.53885259  2.58792829 -1.41749041 -0.46588119 \n",
       "         31          32 \n",
       "-0.29121742 -1.59591510 "
      ]
     },
     "metadata": {},
     "output_type": "display_data"
    }
   ],
   "source": [
    "residuals <- residuals(model)\n",
    "residuals"
   ]
  },
  {
   "cell_type": "markdown",
   "metadata": {},
   "source": [
    " "
   ]
  },
  {
   "cell_type": "markdown",
   "metadata": {
    "deletable": false,
    "editable": false
   },
   "source": [
    "## Step 9: Diagnostic Plots &mdash; Residuals against Fitted Values\n",
    "In this step, you will generate a plot of residuals against fitted values to test the assumption of homoscadasticity.   \n",
    "\n",
    "Click the block of code below and hit the **Run** button above.  \n",
    "NOTE: If the plot is not created, click the code section and hit the **Run** button again. "
   ]
  },
  {
   "cell_type": "code",
   "execution_count": 9,
   "metadata": {
    "deletable": false,
    "editable": false
   },
   "outputs": [
    {
     "data": {
      "image/png": "[encoded data removed]",
      "text/plain": [
       "Plot with title \"Residuals against Fitted Values\""
      ]
     },
     "metadata": {},
     "output_type": "display_data"
    }
   ],
   "source": [
    "plot(fitted_values, residuals, \n",
    "     main = \"Residuals against Fitted Values\",\n",
    "     xlab = \"Fitted Values\", ylab = \"Residuals\",\n",
    "     col=\"red\", \n",
    "     pch = 19)"
   ]
  },
  {
   "cell_type": "markdown",
   "metadata": {},
   "source": [
    " "
   ]
  },
  {
   "cell_type": "markdown",
   "metadata": {
    "deletable": false,
    "editable": false
   },
   "source": [
    "## Step 10: Diagnostic Plots  &mdash; Q-Q Plot\n",
    "In this step, you will generate a Q-Q plot to test assumptions of normality of the residuals.   \n",
    "\n",
    "Click the block of code below and hit the **Run** button above.  \n",
    "NOTE: If the plot is not created, click the code section and hit the **Run** button again."
   ]
  },
  {
   "cell_type": "code",
   "execution_count": 10,
   "metadata": {
    "deletable": false,
    "editable": false,
    "scrolled": true
   },
   "outputs": [
    {
     "data": {
      "image/png": "[encoded data removed]",
      "text/plain": [
       "Plot with title \"Normal Q-Q Plot\""
      ]
     },
     "metadata": {},
     "output_type": "display_data"
    }
   ],
   "source": [
    "qqnorm(residuals, pch = 19, col=\"red\", frame = FALSE)\n",
    "qqline(residuals, col = \"blue\", lwd = 2)"
   ]
  },
  {
   "cell_type": "markdown",
   "metadata": {},
   "source": [
    " "
   ]
  },
  {
   "cell_type": "markdown",
   "metadata": {
    "deletable": false,
    "editable": false
   },
   "source": [
    "## Step 11: Confidence Intervals for Parameter Estimates\n",
    "In this step, you will use the **confint** function to create 90% confidence intervals for the beta parameter estimates.  \n",
    "\n",
    "Click the block of code below and hit the **Run** button above.  "
   ]
  },
  {
   "cell_type": "code",
   "execution_count": 11,
   "metadata": {
    "deletable": false,
    "editable": false,
    "scrolled": false
   },
   "outputs": [
    {
     "name": "stdout",
     "output_type": "stream",
     "text": [
      "[1] \"confint\"\n"
     ]
    },
    {
     "data": {
      "text/html": [
       "<table>\n",
       "<caption>A matrix: 3 × 2 of type dbl</caption>\n",
       "<thead>\n",
       "\t<tr><th></th><th scope=col>5 %</th><th scope=col>95 %</th></tr>\n",
       "</thead>\n",
       "<tbody>\n",
       "\t<tr><th scope=row>(Intercept)</th><td>10.8223</td><td>28.6701</td></tr>\n",
       "\t<tr><th scope=row>wt</th><td>-5.8704</td><td>-4.2256</td></tr>\n",
       "\t<tr><th scope=row>qsec</th><td> 0.4789</td><td> 1.3795</td></tr>\n",
       "</tbody>\n",
       "</table>\n"
      ],
      "text/latex": [
       "A matrix: 3 × 2 of type dbl\n",
       "\\begin{tabular}{r|ll}\n",
       "  & 5 \\% & 95 \\%\\\\\n",
       "\\hline\n",
       "\t(Intercept) & 10.8223 & 28.6701\\\\\n",
       "\twt & -5.8704 & -4.2256\\\\\n",
       "\tqsec &  0.4789 &  1.3795\\\\\n",
       "\\end{tabular}\n"
      ],
      "text/markdown": [
       "\n",
       "A matrix: 3 × 2 of type dbl\n",
       "\n",
       "| <!--/--> | 5 % | 95 % |\n",
       "|---|---|---|\n",
       "| (Intercept) | 10.8223 | 28.6701 |\n",
       "| wt | -5.8704 | -4.2256 |\n",
       "| qsec |  0.4789 |  1.3795 |\n",
       "\n"
      ],
      "text/plain": [
       "            5 %     95 %   \n",
       "(Intercept) 10.8223 28.6701\n",
       "wt          -5.8704 -4.2256\n",
       "qsec         0.4789  1.3795"
      ]
     },
     "metadata": {},
     "output_type": "display_data"
    }
   ],
   "source": [
    "# confidence intervals for model parameters\n",
    "print(\"confint\")\n",
    "conf_90_int <- confint(model, level=0.90) \n",
    "round(conf_90_int, 4)"
   ]
  },
  {
   "cell_type": "markdown",
   "metadata": {},
   "source": [
    " "
   ]
  },
  {
   "cell_type": "markdown",
   "metadata": {
    "deletable": false,
    "editable": false
   },
   "source": [
    "## Step 12: Predictions, Prediction Interval, and Confidence Interval\n",
    "In this step, you will predict the fuel economy for a car that has a weight of 3.88 and qsec of 22.74. You will also obtain a 90% prediction interval and confidence interval for this prediction. Note that this observation is not from the data set that was used to create this model. \n",
    "\n",
    "Click the block of code below and hit the **Run** button above.  "
   ]
  },
  {
   "cell_type": "code",
   "execution_count": 12,
   "metadata": {
    "deletable": false,
    "editable": false,
    "scrolled": true
   },
   "outputs": [
    {
     "name": "stdout",
     "output_type": "stream",
     "text": [
      "[1] \"prediction interval\"\n"
     ]
    },
    {
     "data": {
      "text/html": [
       "<table>\n",
       "<caption>A matrix: 1 × 3 of type dbl</caption>\n",
       "<thead>\n",
       "\t<tr><th scope=col>fit</th><th scope=col>lwr</th><th scope=col>upr</th></tr>\n",
       "</thead>\n",
       "<tbody>\n",
       "\t<tr><td>21.29</td><td>16.2269</td><td>26.3531</td></tr>\n",
       "</tbody>\n",
       "</table>\n"
      ],
      "text/latex": [
       "A matrix: 1 × 3 of type dbl\n",
       "\\begin{tabular}{r|lll}\n",
       " fit & lwr & upr\\\\\n",
       "\\hline\n",
       "\t 21.29 & 16.2269 & 26.3531\\\\\n",
       "\\end{tabular}\n"
      ],
      "text/markdown": [
       "\n",
       "A matrix: 1 × 3 of type dbl\n",
       "\n",
       "| fit | lwr | upr |\n",
       "|---|---|---|\n",
       "| 21.29 | 16.2269 | 26.3531 |\n",
       "\n"
      ],
      "text/plain": [
       "  fit   lwr     upr    \n",
       "1 21.29 16.2269 26.3531"
      ]
     },
     "metadata": {},
     "output_type": "display_data"
    },
    {
     "name": "stdout",
     "output_type": "stream",
     "text": [
      "[1] \"confidence interval\"\n"
     ]
    },
    {
     "data": {
      "text/html": [
       "<table>\n",
       "<caption>A matrix: 1 × 3 of type dbl</caption>\n",
       "<thead>\n",
       "\t<tr><th scope=col>fit</th><th scope=col>lwr</th><th scope=col>upr</th></tr>\n",
       "</thead>\n",
       "<tbody>\n",
       "\t<tr><td>21.29</td><td>18.8049</td><td>23.7751</td></tr>\n",
       "</tbody>\n",
       "</table>\n"
      ],
      "text/latex": [
       "A matrix: 1 × 3 of type dbl\n",
       "\\begin{tabular}{r|lll}\n",
       " fit & lwr & upr\\\\\n",
       "\\hline\n",
       "\t 21.29 & 18.8049 & 23.7751\\\\\n",
       "\\end{tabular}\n"
      ],
      "text/markdown": [
       "\n",
       "A matrix: 1 × 3 of type dbl\n",
       "\n",
       "| fit | lwr | upr |\n",
       "|---|---|---|\n",
       "| 21.29 | 18.8049 | 23.7751 |\n",
       "\n"
      ],
      "text/plain": [
       "  fit   lwr     upr    \n",
       "1 21.29 18.8049 23.7751"
      ]
     },
     "metadata": {},
     "output_type": "display_data"
    }
   ],
   "source": [
    "newdata <- data.frame(wt=3.88, qsec=22.74)\n",
    "\n",
    "print(\"prediction interval\")\n",
    "prediction_pred_int <- predict(model, newdata, interval=\"predict\", level=0.90) \n",
    "round(prediction_pred_int, 4)\n",
    "\n",
    "print(\"confidence interval\")\n",
    "prediction_conf_int <- predict(model, newdata, interval=\"confidence\", level=0.90) \n",
    "round(prediction_conf_int, 4)"
   ]
  },
  {
   "cell_type": "markdown",
   "metadata": {},
   "source": [
    " "
   ]
  },
  {
   "cell_type": "markdown",
   "metadata": {
    "deletable": false,
    "editable": false
   },
   "source": [
    "## Your Code\n",
    "\n",
    "You have been asked to create a regression model in the Module One Problem Set. Review the Problem Set Report template to see the questions you will be answering about your models.\n",
    "\n",
    "Use the empty blocks below to write the R code for your model and get outputs. Then use the outputs to answer the questions in your Problem Set Report.\n",
    "\n",
    "**Note: Use the + (plus) button to add new code blocks or the scissor icon to remove empty code blocks, if needed.**"
   ]
  },
  {
   "cell_type": "code",
   "execution_count": 13,
   "metadata": {},
   "outputs": [
    {
     "data": {
      "image/png": "[encoded data removed]",
      "text/plain": [
       "Plot with title \"Scatterplot of Fuel Economy against Real Axel Ratio\""
      ]
     },
     "metadata": {},
     "output_type": "display_data"
    },
    {
     "data": {
      "image/png": "[encoded data removed]",
      "text/plain": [
       "Plot with title \"Scatterplot of Fuel Economy against Horse Power\""
      ]
     },
     "metadata": {},
     "output_type": "display_data"
    }
   ],
   "source": [
    "plot(mtcars2$drat, mtcars$mpg, \n",
    "     main = \"Scatterplot of Fuel Economy against Real Axel Ratio\",\n",
    "     xlab = \"Rear Axel Ratio\", ylab = \"Fuel Economy\",\n",
    "     xlim=c(0, 8),\n",
    "     ylim=c(0, 50),\n",
    "     col=\"red\", \n",
    "     pch = 19, frame = FALSE)\n",
    "\n",
    "plot(mtcars2$hp, mtcars$mpg, \n",
    "     main = \"Scatterplot of Fuel Economy against Horse Power\",\n",
    "     xlab = \"Horse Power\", ylab = \"Fuel Economy\",\n",
    "     xlim=c(0, 350),\n",
    "     ylim=c(0, 50),\n",
    "     col=\"blue\", \n",
    "     pch = 19, frame = FALSE)\n",
    "\n"
   ]
  },
  {
   "cell_type": "code",
   "execution_count": 14,
   "metadata": {},
   "outputs": [
    {
     "name": "stdout",
     "output_type": "stream",
     "text": [
      "[1] \"head\"\n"
     ]
    },
    {
     "data": {
      "text/html": [
       "<table>\n",
       "<caption>A data.frame: 10 × 3</caption>\n",
       "<thead>\n",
       "\t<tr><th scope=col>mpg</th><th scope=col>drat</th><th scope=col>hp</th></tr>\n",
       "\t<tr><th scope=col>&lt;dbl&gt;</th><th scope=col>&lt;dbl&gt;</th><th scope=col>&lt;int&gt;</th></tr>\n",
       "</thead>\n",
       "<tbody>\n",
       "\t<tr><td>21.0</td><td>3.90</td><td>110</td></tr>\n",
       "\t<tr><td>21.0</td><td>3.90</td><td>110</td></tr>\n",
       "\t<tr><td>22.8</td><td>3.85</td><td> 93</td></tr>\n",
       "\t<tr><td>21.4</td><td>3.08</td><td>110</td></tr>\n",
       "\t<tr><td>18.7</td><td>3.15</td><td>175</td></tr>\n",
       "\t<tr><td>18.1</td><td>2.76</td><td>105</td></tr>\n",
       "\t<tr><td>14.3</td><td>3.21</td><td>245</td></tr>\n",
       "\t<tr><td>24.4</td><td>3.69</td><td> 62</td></tr>\n",
       "\t<tr><td>22.8</td><td>3.92</td><td> 95</td></tr>\n",
       "\t<tr><td>19.2</td><td>3.92</td><td>123</td></tr>\n",
       "</tbody>\n",
       "</table>\n"
      ],
      "text/latex": [
       "A data.frame: 10 × 3\n",
       "\\begin{tabular}{r|lll}\n",
       " mpg & drat & hp\\\\\n",
       " <dbl> & <dbl> & <int>\\\\\n",
       "\\hline\n",
       "\t 21.0 & 3.90 & 110\\\\\n",
       "\t 21.0 & 3.90 & 110\\\\\n",
       "\t 22.8 & 3.85 &  93\\\\\n",
       "\t 21.4 & 3.08 & 110\\\\\n",
       "\t 18.7 & 3.15 & 175\\\\\n",
       "\t 18.1 & 2.76 & 105\\\\\n",
       "\t 14.3 & 3.21 & 245\\\\\n",
       "\t 24.4 & 3.69 &  62\\\\\n",
       "\t 22.8 & 3.92 &  95\\\\\n",
       "\t 19.2 & 3.92 & 123\\\\\n",
       "\\end{tabular}\n"
      ],
      "text/markdown": [
       "\n",
       "A data.frame: 10 × 3\n",
       "\n",
       "| mpg &lt;dbl&gt; | drat &lt;dbl&gt; | hp &lt;int&gt; |\n",
       "|---|---|---|\n",
       "| 21.0 | 3.90 | 110 |\n",
       "| 21.0 | 3.90 | 110 |\n",
       "| 22.8 | 3.85 |  93 |\n",
       "| 21.4 | 3.08 | 110 |\n",
       "| 18.7 | 3.15 | 175 |\n",
       "| 18.1 | 2.76 | 105 |\n",
       "| 14.3 | 3.21 | 245 |\n",
       "| 24.4 | 3.69 |  62 |\n",
       "| 22.8 | 3.92 |  95 |\n",
       "| 19.2 | 3.92 | 123 |\n",
       "\n"
      ],
      "text/plain": [
       "   mpg  drat hp \n",
       "1  21.0 3.90 110\n",
       "2  21.0 3.90 110\n",
       "3  22.8 3.85  93\n",
       "4  21.4 3.08 110\n",
       "5  18.7 3.15 175\n",
       "6  18.1 2.76 105\n",
       "7  14.3 3.21 245\n",
       "8  24.4 3.69  62\n",
       "9  22.8 3.92  95\n",
       "10 19.2 3.92 123"
      ]
     },
     "metadata": {},
     "output_type": "display_data"
    },
    {
     "name": "stdout",
     "output_type": "stream",
     "text": [
      "[1] \"cor\"\n"
     ]
    },
    {
     "data": {
      "text/html": [
       "<table>\n",
       "<caption>A matrix: 3 × 3 of type dbl</caption>\n",
       "<thead>\n",
       "\t<tr><th></th><th scope=col>mpg</th><th scope=col>drat</th><th scope=col>hp</th></tr>\n",
       "</thead>\n",
       "<tbody>\n",
       "\t<tr><th scope=row>mpg</th><td> 1.0000</td><td> 0.6812</td><td>-0.7762</td></tr>\n",
       "\t<tr><th scope=row>drat</th><td> 0.6812</td><td> 1.0000</td><td>-0.4488</td></tr>\n",
       "\t<tr><th scope=row>hp</th><td>-0.7762</td><td>-0.4488</td><td> 1.0000</td></tr>\n",
       "</tbody>\n",
       "</table>\n"
      ],
      "text/latex": [
       "A matrix: 3 × 3 of type dbl\n",
       "\\begin{tabular}{r|lll}\n",
       "  & mpg & drat & hp\\\\\n",
       "\\hline\n",
       "\tmpg &  1.0000 &  0.6812 & -0.7762\\\\\n",
       "\tdrat &  0.6812 &  1.0000 & -0.4488\\\\\n",
       "\thp & -0.7762 & -0.4488 &  1.0000\\\\\n",
       "\\end{tabular}\n"
      ],
      "text/markdown": [
       "\n",
       "A matrix: 3 × 3 of type dbl\n",
       "\n",
       "| <!--/--> | mpg | drat | hp |\n",
       "|---|---|---|---|\n",
       "| mpg |  1.0000 |  0.6812 | -0.7762 |\n",
       "| drat |  0.6812 |  1.0000 | -0.4488 |\n",
       "| hp | -0.7762 | -0.4488 |  1.0000 |\n",
       "\n"
      ],
      "text/plain": [
       "     mpg     drat    hp     \n",
       "mpg   1.0000  0.6812 -0.7762\n",
       "drat  0.6812  1.0000 -0.4488\n",
       "hp   -0.7762 -0.4488  1.0000"
      ]
     },
     "metadata": {},
     "output_type": "display_data"
    }
   ],
   "source": [
    "# Selecting mpg, drat, and hp variables to subset the data\n",
    "mynewvars <- c(\"mpg\",\"drat\",\"hp\")\n",
    "mtcars_subset <- mtcars2[mynewvars]\n",
    "\n",
    "# Print the first 10 rows\n",
    "print(\"head\")\n",
    "head(mtcars_subset, 10)\n",
    "\n",
    "# Print the correlation matrix\n",
    "print(\"cor\")\n",
    "corr_matrix <- cor(mtcars_subset, method = \"pearson\")\n",
    "round(corr_matrix, 4)"
   ]
  },
  {
   "cell_type": "code",
   "execution_count": 15,
   "metadata": {},
   "outputs": [
    {
     "data": {
      "text/plain": [
       "\n",
       "Call:\n",
       "lm(formula = mpg ~ drat + hp, data = mtcars_subset)\n",
       "\n",
       "Residuals:\n",
       "    Min      1Q  Median      3Q     Max \n",
       "-5.0369 -2.3487 -0.6034  1.1897  7.7500 \n",
       "\n",
       "Coefficients:\n",
       "             Estimate Std. Error t value Pr(>|t|)    \n",
       "(Intercept) 10.789861   5.077752   2.125 0.042238 *  \n",
       "drat         4.698158   1.191633   3.943 0.000467 ***\n",
       "hp          -0.051787   0.009293  -5.573 5.17e-06 ***\n",
       "---\n",
       "Signif. codes:  0 '***' 0.001 '**' 0.01 '*' 0.05 '.' 0.1 ' ' 1\n",
       "\n",
       "Residual standard error: 3.17 on 29 degrees of freedom\n",
       "Multiple R-squared:  0.7412,\tAdjusted R-squared:  0.7233 \n",
       "F-statistic: 41.52 on 2 and 29 DF,  p-value: 3.081e-09\n"
      ]
     },
     "metadata": {},
     "output_type": "display_data"
    }
   ],
   "source": [
    "# Create the multiple regression model and print the statistics\n",
    "model2 <- lm(mpg ~ drat + hp, data=mtcars_subset)\n",
    "summary(model2)"
   ]
  },
  {
   "cell_type": "code",
   "execution_count": 16,
   "metadata": {},
   "outputs": [
    {
     "data": {
      "text/html": [
       "<dl class=dl-horizontal>\n",
       "\t<dt>1</dt>\n",
       "\t\t<dd>23.4161449752737</dd>\n",
       "\t<dt>2</dt>\n",
       "\t\t<dd>23.4161449752737</dd>\n",
       "\t<dt>3</dt>\n",
       "\t\t<dd>24.0616101404034</dd>\n",
       "\t<dt>4</dt>\n",
       "\t\t<dd>19.5636556093935</dd>\n",
       "\t<dt>5</dt>\n",
       "\t\t<dd>16.5263943902309</dd>\n",
       "\t<dt>6</dt>\n",
       "\t\t<dd>18.3191783761162</dd>\n",
       "\t<dt>7</dt>\n",
       "\t\t<dd>13.183218342467</dd>\n",
       "\t<dt>8</dt>\n",
       "\t\t<dd>24.9152910542856</dd>\n",
       "\t<dt>9</dt>\n",
       "\t\t<dd>24.2869078834447</dd>\n",
       "\t<dt>10</dt>\n",
       "\t\t<dd>22.8368816780207</dd>\n",
       "\t<dt>11</dt>\n",
       "\t\t<dd>22.8368816780207</dd>\n",
       "\t<dt>12</dt>\n",
       "\t\t<dd>15.8916085182009</dd>\n",
       "\t<dt>13</dt>\n",
       "\t\t<dd>15.8916085182009</dd>\n",
       "\t<dt>14</dt>\n",
       "\t\t<dd>15.8916085182009</dd>\n",
       "\t<dt>15</dt>\n",
       "\t\t<dd>13.9392001765004</dd>\n",
       "\t<dt>16</dt>\n",
       "\t\t<dd>13.7502047179921</dd>\n",
       "\t<dt>17</dt>\n",
       "\t\t<dd>14.0539812506381</dd>\n",
       "\t<dt>18</dt>\n",
       "\t\t<dd>26.5404259811854</dd>\n",
       "\t<dt>19</dt>\n",
       "\t\t<dd>31.2588731826756</dd>\n",
       "\t<dt>20</dt>\n",
       "\t\t<dd>27.2499547182367</dd>\n",
       "\t<dt>21</dt>\n",
       "\t\t<dd>23.1497398751383</dd>\n",
       "\t<dt>22</dt>\n",
       "\t\t<dd>15.9887791173991</dd>\n",
       "\t<dt>23</dt>\n",
       "\t\t<dd>17.8210606450738</dd>\n",
       "\t<dt>24</dt>\n",
       "\t\t<dd>15.6262603793666</dd>\n",
       "\t<dt>25</dt>\n",
       "\t\t<dd>16.1975233468021</dd>\n",
       "\t<dt>26</dt>\n",
       "\t\t<dd>26.5404259811854</dd>\n",
       "\t<dt>27</dt>\n",
       "\t\t<dd>26.8901149434865</dd>\n",
       "\t<dt>28</dt>\n",
       "\t\t<dd>22.6500245154676</dd>\n",
       "\t<dt>29</dt>\n",
       "\t\t<dd>16.9444113296875</dd>\n",
       "\t<dt>30</dt>\n",
       "\t\t<dd>18.7345285389671</dd>\n",
       "\t<dt>31</dt>\n",
       "\t\t<dd>10.0728118869113</dd>\n",
       "\t<dt>32</dt>\n",
       "\t\t<dd>24.4545447557537</dd>\n",
       "</dl>\n"
      ],
      "text/latex": [
       "\\begin{description*}\n",
       "\\item[1] 23.4161449752737\n",
       "\\item[2] 23.4161449752737\n",
       "\\item[3] 24.0616101404034\n",
       "\\item[4] 19.5636556093935\n",
       "\\item[5] 16.5263943902309\n",
       "\\item[6] 18.3191783761162\n",
       "\\item[7] 13.183218342467\n",
       "\\item[8] 24.9152910542856\n",
       "\\item[9] 24.2869078834447\n",
       "\\item[10] 22.8368816780207\n",
       "\\item[11] 22.8368816780207\n",
       "\\item[12] 15.8916085182009\n",
       "\\item[13] 15.8916085182009\n",
       "\\item[14] 15.8916085182009\n",
       "\\item[15] 13.9392001765004\n",
       "\\item[16] 13.7502047179921\n",
       "\\item[17] 14.0539812506381\n",
       "\\item[18] 26.5404259811854\n",
       "\\item[19] 31.2588731826756\n",
       "\\item[20] 27.2499547182367\n",
       "\\item[21] 23.1497398751383\n",
       "\\item[22] 15.9887791173991\n",
       "\\item[23] 17.8210606450738\n",
       "\\item[24] 15.6262603793666\n",
       "\\item[25] 16.1975233468021\n",
       "\\item[26] 26.5404259811854\n",
       "\\item[27] 26.8901149434865\n",
       "\\item[28] 22.6500245154676\n",
       "\\item[29] 16.9444113296875\n",
       "\\item[30] 18.7345285389671\n",
       "\\item[31] 10.0728118869113\n",
       "\\item[32] 24.4545447557537\n",
       "\\end{description*}\n"
      ],
      "text/markdown": [
       "1\n",
       ":   23.41614497527372\n",
       ":   23.41614497527373\n",
       ":   24.06161014040344\n",
       ":   19.56365560939355\n",
       ":   16.52639439023096\n",
       ":   18.31917837611627\n",
       ":   13.1832183424678\n",
       ":   24.91529105428569\n",
       ":   24.286907883444710\n",
       ":   22.836881678020711\n",
       ":   22.836881678020712\n",
       ":   15.891608518200913\n",
       ":   15.891608518200914\n",
       ":   15.891608518200915\n",
       ":   13.939200176500416\n",
       ":   13.750204717992117\n",
       ":   14.053981250638118\n",
       ":   26.540425981185419\n",
       ":   31.258873182675620\n",
       ":   27.249954718236721\n",
       ":   23.149739875138322\n",
       ":   15.988779117399123\n",
       ":   17.821060645073824\n",
       ":   15.626260379366625\n",
       ":   16.197523346802126\n",
       ":   26.540425981185427\n",
       ":   26.890114943486528\n",
       ":   22.650024515467629\n",
       ":   16.944411329687530\n",
       ":   18.734528538967131\n",
       ":   10.072811886911332\n",
       ":   24.4545447557537\n",
       "\n"
      ],
      "text/plain": [
       "       1        2        3        4        5        6        7        8 \n",
       "23.41614 23.41614 24.06161 19.56366 16.52639 18.31918 13.18322 24.91529 \n",
       "       9       10       11       12       13       14       15       16 \n",
       "24.28691 22.83688 22.83688 15.89161 15.89161 15.89161 13.93920 13.75020 \n",
       "      17       18       19       20       21       22       23       24 \n",
       "14.05398 26.54043 31.25887 27.24995 23.14974 15.98878 17.82106 15.62626 \n",
       "      25       26       27       28       29       30       31       32 \n",
       "16.19752 26.54043 26.89011 22.65002 16.94441 18.73453 10.07281 24.45454 "
      ]
     },
     "metadata": {},
     "output_type": "display_data"
    }
   ],
   "source": [
    "fitted_values2 <- fitted.values(model2) \n",
    "fitted_values2"
   ]
  },
  {
   "cell_type": "code",
   "execution_count": 17,
   "metadata": {},
   "outputs": [
    {
     "data": {
      "text/html": [
       "<dl class=dl-horizontal>\n",
       "\t<dt>1</dt>\n",
       "\t\t<dd>-2.41614497527371</dd>\n",
       "\t<dt>2</dt>\n",
       "\t\t<dd>-2.41614497527366</dd>\n",
       "\t<dt>3</dt>\n",
       "\t\t<dd>-1.26161014040338</dd>\n",
       "\t<dt>4</dt>\n",
       "\t\t<dd>1.83634439060645</dd>\n",
       "\t<dt>5</dt>\n",
       "\t\t<dd>2.1736056097691</dd>\n",
       "\t<dt>6</dt>\n",
       "\t\t<dd>-0.219178376116217</dd>\n",
       "\t<dt>7</dt>\n",
       "\t\t<dd>1.11678165753301</dd>\n",
       "\t<dt>8</dt>\n",
       "\t\t<dd>-0.515291054285585</dd>\n",
       "\t<dt>9</dt>\n",
       "\t\t<dd>-1.48690788344475</dd>\n",
       "\t<dt>10</dt>\n",
       "\t\t<dd>-3.63688167802074</dd>\n",
       "\t<dt>11</dt>\n",
       "\t\t<dd>-5.03688167802074</dd>\n",
       "\t<dt>12</dt>\n",
       "\t\t<dd>0.508391481799147</dd>\n",
       "\t<dt>13</dt>\n",
       "\t\t<dd>1.40839148179915</dd>\n",
       "\t<dt>14</dt>\n",
       "\t\t<dd>-0.691608518200852</dd>\n",
       "\t<dt>15</dt>\n",
       "\t\t<dd>-3.53920017650041</dd>\n",
       "\t<dt>16</dt>\n",
       "\t\t<dd>-3.35020471799206</dd>\n",
       "\t<dt>17</dt>\n",
       "\t\t<dd>0.646018749361919</dd>\n",
       "\t<dt>18</dt>\n",
       "\t\t<dd>5.85957401881458</dd>\n",
       "\t<dt>19</dt>\n",
       "\t\t<dd>-0.858873182675586</dd>\n",
       "\t<dt>20</dt>\n",
       "\t\t<dd>6.65004528176329</dd>\n",
       "\t<dt>21</dt>\n",
       "\t\t<dd>-1.64973987513826</dd>\n",
       "\t<dt>22</dt>\n",
       "\t\t<dd>-0.488779117399069</dd>\n",
       "\t<dt>23</dt>\n",
       "\t\t<dd>-2.62106064507376</dd>\n",
       "\t<dt>24</dt>\n",
       "\t\t<dd>-2.32626037936658</dd>\n",
       "\t<dt>25</dt>\n",
       "\t\t<dd>3.00247665319789</dd>\n",
       "\t<dt>26</dt>\n",
       "\t\t<dd>0.759574018814585</dd>\n",
       "\t<dt>27</dt>\n",
       "\t\t<dd>-0.890114943486505</dd>\n",
       "\t<dt>28</dt>\n",
       "\t\t<dd>7.74997548453238</dd>\n",
       "\t<dt>29</dt>\n",
       "\t\t<dd>-1.14441132968754</dd>\n",
       "\t<dt>30</dt>\n",
       "\t\t<dd>0.965471461032935</dd>\n",
       "\t<dt>31</dt>\n",
       "\t\t<dd>4.92718811308872</dd>\n",
       "\t<dt>32</dt>\n",
       "\t\t<dd>-3.05454475575375</dd>\n",
       "</dl>\n"
      ],
      "text/latex": [
       "\\begin{description*}\n",
       "\\item[1] -2.41614497527371\n",
       "\\item[2] -2.41614497527366\n",
       "\\item[3] -1.26161014040338\n",
       "\\item[4] 1.83634439060645\n",
       "\\item[5] 2.1736056097691\n",
       "\\item[6] -0.219178376116217\n",
       "\\item[7] 1.11678165753301\n",
       "\\item[8] -0.515291054285585\n",
       "\\item[9] -1.48690788344475\n",
       "\\item[10] -3.63688167802074\n",
       "\\item[11] -5.03688167802074\n",
       "\\item[12] 0.508391481799147\n",
       "\\item[13] 1.40839148179915\n",
       "\\item[14] -0.691608518200852\n",
       "\\item[15] -3.53920017650041\n",
       "\\item[16] -3.35020471799206\n",
       "\\item[17] 0.646018749361919\n",
       "\\item[18] 5.85957401881458\n",
       "\\item[19] -0.858873182675586\n",
       "\\item[20] 6.65004528176329\n",
       "\\item[21] -1.64973987513826\n",
       "\\item[22] -0.488779117399069\n",
       "\\item[23] -2.62106064507376\n",
       "\\item[24] -2.32626037936658\n",
       "\\item[25] 3.00247665319789\n",
       "\\item[26] 0.759574018814585\n",
       "\\item[27] -0.890114943486505\n",
       "\\item[28] 7.74997548453238\n",
       "\\item[29] -1.14441132968754\n",
       "\\item[30] 0.965471461032935\n",
       "\\item[31] 4.92718811308872\n",
       "\\item[32] -3.05454475575375\n",
       "\\end{description*}\n"
      ],
      "text/markdown": [
       "1\n",
       ":   -2.416144975273712\n",
       ":   -2.416144975273663\n",
       ":   -1.261610140403384\n",
       ":   1.836344390606455\n",
       ":   2.17360560976916\n",
       ":   -0.2191783761162177\n",
       ":   1.116781657533018\n",
       ":   -0.5152910542855859\n",
       ":   -1.4869078834447510\n",
       ":   -3.6368816780207411\n",
       ":   -5.0368816780207412\n",
       ":   0.50839148179914713\n",
       ":   1.4083914817991514\n",
       ":   -0.69160851820085215\n",
       ":   -3.5392001765004116\n",
       ":   -3.3502047179920617\n",
       ":   0.64601874936191918\n",
       ":   5.8595740188145819\n",
       ":   -0.85887318267558620\n",
       ":   6.6500452817632921\n",
       ":   -1.6497398751382622\n",
       ":   -0.48877911739906923\n",
       ":   -2.6210606450737624\n",
       ":   -2.3262603793665825\n",
       ":   3.0024766531978926\n",
       ":   0.75957401881458527\n",
       ":   -0.89011494348650528\n",
       ":   7.7499754845323829\n",
       ":   -1.1444113296875430\n",
       ":   0.96547146103293531\n",
       ":   4.9271881130887232\n",
       ":   -3.05454475575375\n",
       "\n"
      ],
      "text/plain": [
       "         1          2          3          4          5          6          7 \n",
       "-2.4161450 -2.4161450 -1.2616101  1.8363444  2.1736056 -0.2191784  1.1167817 \n",
       "         8          9         10         11         12         13         14 \n",
       "-0.5152911 -1.4869079 -3.6368817 -5.0368817  0.5083915  1.4083915 -0.6916085 \n",
       "        15         16         17         18         19         20         21 \n",
       "-3.5392002 -3.3502047  0.6460187  5.8595740 -0.8588732  6.6500453 -1.6497399 \n",
       "        22         23         24         25         26         27         28 \n",
       "-0.4887791 -2.6210606 -2.3262604  3.0024767  0.7595740 -0.8901149  7.7499755 \n",
       "        29         30         31         32 \n",
       "-1.1444113  0.9654715  4.9271881 -3.0545448 "
      ]
     },
     "metadata": {},
     "output_type": "display_data"
    }
   ],
   "source": [
    "residuals2 <- residuals(model2)\n",
    "residuals2"
   ]
  },
  {
   "cell_type": "code",
   "execution_count": 18,
   "metadata": {},
   "outputs": [
    {
     "data": {
      "image/png": "[encoded data removed]",
      "text/plain": [
       "Plot with title \"Residuals against Fitted Values\""
      ]
     },
     "metadata": {},
     "output_type": "display_data"
    }
   ],
   "source": [
    "plot(fitted_values2, residuals2, \n",
    "     main = \"Residuals against Fitted Values\",\n",
    "     xlab = \"Fitted Values\", ylab = \"Residuals\",\n",
    "     col=\"green\", \n",
    "     pch = 19)"
   ]
  },
  {
   "cell_type": "code",
   "execution_count": 19,
   "metadata": {},
   "outputs": [
    {
     "data": {
      "image/png": "[encoded data removed]",
      "text/plain": [
       "Plot with title \"Normal Q-Q Plot\""
      ]
     },
     "metadata": {},
     "output_type": "display_data"
    }
   ],
   "source": [
    "qqnorm(residuals2, pch = 19, col=\"red\", frame = FALSE)\n",
    "qqline(residuals2, col = \"blue\", lwd = 2)"
   ]
  },
  {
   "cell_type": "code",
   "execution_count": 20,
   "metadata": {},
   "outputs": [
    {
     "name": "stdout",
     "output_type": "stream",
     "text": [
      "[1] \"prediction interval\"\n"
     ]
    },
    {
     "data": {
      "text/html": [
       "<table>\n",
       "<caption>A matrix: 1 × 3 of type dbl</caption>\n",
       "<thead>\n",
       "\t<tr><th scope=col>fit</th><th scope=col>lwr</th><th scope=col>upr</th></tr>\n",
       "</thead>\n",
       "<tbody>\n",
       "\t<tr><td>19.3747</td><td>12.6449</td><td>26.1045</td></tr>\n",
       "</tbody>\n",
       "</table>\n"
      ],
      "text/latex": [
       "A matrix: 1 × 3 of type dbl\n",
       "\\begin{tabular}{r|lll}\n",
       " fit & lwr & upr\\\\\n",
       "\\hline\n",
       "\t 19.3747 & 12.6449 & 26.1045\\\\\n",
       "\\end{tabular}\n"
      ],
      "text/markdown": [
       "\n",
       "A matrix: 1 × 3 of type dbl\n",
       "\n",
       "| fit | lwr | upr |\n",
       "|---|---|---|\n",
       "| 19.3747 | 12.6449 | 26.1045 |\n",
       "\n"
      ],
      "text/plain": [
       "  fit     lwr     upr    \n",
       "1 19.3747 12.6449 26.1045"
      ]
     },
     "metadata": {},
     "output_type": "display_data"
    },
    {
     "name": "stdout",
     "output_type": "stream",
     "text": [
      "[1] \"confidence interval\"\n"
     ]
    },
    {
     "data": {
      "text/html": [
       "<table>\n",
       "<caption>A matrix: 1 × 3 of type dbl</caption>\n",
       "<thead>\n",
       "\t<tr><th scope=col>fit</th><th scope=col>lwr</th><th scope=col>upr</th></tr>\n",
       "</thead>\n",
       "<tbody>\n",
       "\t<tr><td>19.3747</td><td>17.5716</td><td>21.1777</td></tr>\n",
       "</tbody>\n",
       "</table>\n"
      ],
      "text/latex": [
       "A matrix: 1 × 3 of type dbl\n",
       "\\begin{tabular}{r|lll}\n",
       " fit & lwr & upr\\\\\n",
       "\\hline\n",
       "\t 19.3747 & 17.5716 & 21.1777\\\\\n",
       "\\end{tabular}\n"
      ],
      "text/markdown": [
       "\n",
       "A matrix: 1 × 3 of type dbl\n",
       "\n",
       "| fit | lwr | upr |\n",
       "|---|---|---|\n",
       "| 19.3747 | 17.5716 | 21.1777 |\n",
       "\n"
      ],
      "text/plain": [
       "  fit     lwr     upr    \n",
       "1 19.3747 17.5716 21.1777"
      ]
     },
     "metadata": {},
     "output_type": "display_data"
    }
   ],
   "source": [
    "newdata2 <- data.frame(drat=3.15, hp=120)\n",
    "\n",
    "print(\"prediction interval\")\n",
    "prediction_pred_int <- predict(model2, newdata2, interval=\"predict\", level=0.95) \n",
    "round(prediction_pred_int, 4)\n",
    "\n",
    "print(\"confidence interval\")\n",
    "prediction_conf_int <- predict(model2, newdata2, interval=\"confidence\", level=0.95) \n",
    "round(prediction_conf_int, 4)"
   ]
  },
  {
   "cell_type": "code",
   "execution_count": 21,
   "metadata": {},
   "outputs": [
    {
     "name": "stdout",
     "output_type": "stream",
     "text": [
      "[1] \"confint\"\n"
     ]
    },
    {
     "data": {
      "text/html": [
       "<table>\n",
       "<caption>A matrix: 3 × 2 of type dbl</caption>\n",
       "<thead>\n",
       "\t<tr><th></th><th scope=col>5 %</th><th scope=col>95 %</th></tr>\n",
       "</thead>\n",
       "<tbody>\n",
       "\t<tr><th scope=row>(Intercept)</th><td> 2.1621</td><td>19.4176</td></tr>\n",
       "\t<tr><th scope=row>drat</th><td> 2.6734</td><td> 6.7229</td></tr>\n",
       "\t<tr><th scope=row>hp</th><td>-0.0676</td><td>-0.0360</td></tr>\n",
       "</tbody>\n",
       "</table>\n"
      ],
      "text/latex": [
       "A matrix: 3 × 2 of type dbl\n",
       "\\begin{tabular}{r|ll}\n",
       "  & 5 \\% & 95 \\%\\\\\n",
       "\\hline\n",
       "\t(Intercept) &  2.1621 & 19.4176\\\\\n",
       "\tdrat &  2.6734 &  6.7229\\\\\n",
       "\thp & -0.0676 & -0.0360\\\\\n",
       "\\end{tabular}\n"
      ],
      "text/markdown": [
       "\n",
       "A matrix: 3 × 2 of type dbl\n",
       "\n",
       "| <!--/--> | 5 % | 95 % |\n",
       "|---|---|---|\n",
       "| (Intercept) |  2.1621 | 19.4176 |\n",
       "| drat |  2.6734 |  6.7229 |\n",
       "| hp | -0.0676 | -0.0360 |\n",
       "\n"
      ],
      "text/plain": [
       "            5 %     95 %   \n",
       "(Intercept)  2.1621 19.4176\n",
       "drat         2.6734  6.7229\n",
       "hp          -0.0676 -0.0360"
      ]
     },
     "metadata": {},
     "output_type": "display_data"
    }
   ],
   "source": [
    "# confidence intervals for model parameters\n",
    "print(\"confint\")\n",
    "conf_95_int <- confint(model2, level=0.90) \n",
    "round(conf_95_int, 4)"
   ]
  },
  {
   "cell_type": "code",
   "execution_count": 22,
   "metadata": {},
   "outputs": [
    {
     "data": {
      "text/plain": [
       "            Df Sum Sq Mean Sq F value   Pr(>F)    \n",
       "drat         1  522.5   522.5   51.99 6.14e-08 ***\n",
       "hp           1  312.1   312.1   31.06 5.17e-06 ***\n",
       "Residuals   29  291.5    10.1                     \n",
       "---\n",
       "Signif. codes:  0 '***' 0.001 '**' 0.01 '*' 0.05 '.' 0.1 ' ' 1"
      ]
     },
     "metadata": {},
     "output_type": "display_data"
    }
   ],
   "source": [
    "aov.model = aov(mpg ~ drat + hp, data = mtcars)\n",
    "summary(aov.model)"
   ]
  },
  {
   "cell_type": "markdown",
   "metadata": {
    "deletable": false,
    "editable": false
   },
   "source": [
    "## End of Module One Jupyter Notebook\n",
    "Attach the HTML output along with your problem set report for the Module One Problem Set. The HTML output can be downloaded by clicking **File**, then **Download as**, then **HTML**. Be sure to answer all of the questions in your problem set report."
   ]
  }
 ],
 "metadata": {
  "celltoolbar": "Edit Metadata",
  "kernelspec": {
   "display_name": "R",
   "language": "R",
   "name": "ir"
  },
  "language_info": {
   "codemirror_mode": "r",
   "file_extension": ".r",
   "mimetype": "text/x-r-source",
   "name": "R",
   "pygments_lexer": "r",
   "version": "3.4.4"
  }
 },
 "nbformat": 4,
 "nbformat_minor": 2
}
